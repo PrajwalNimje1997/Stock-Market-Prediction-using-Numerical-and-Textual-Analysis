{
  "nbformat": 4,
  "nbformat_minor": 0,
  "metadata": {
    "colab": {
      "name": "Stock Market Prediction using Numerical and Textual Analysis.ipynb",
      "provenance": [],
      "collapsed_sections": []
    },
    "kernelspec": {
      "display_name": "Python 3",
      "name": "python3"
    },
    "language_info": {
      "name": "python"
    }
  },
  "cells": [
    {
      "cell_type": "markdown",
      "metadata": {
        "id": "nBXm4Wokf-7n"
      },
      "source": [
        "**Numerical Analysis**"
      ]
    },
    {
      "cell_type": "markdown",
      "metadata": {
        "id": "HJxZQcnncCfU"
      },
      "source": [
        "**Attention layer with LSTM**"
      ]
    },
    {
      "cell_type": "code",
      "metadata": {
        "colab": {
          "base_uri": "https://localhost:8080/"
        },
        "id": "RPRs_RfwGNtz",
        "outputId": "2842daaa-bbc6-4461-de89-707021ce22b2"
      },
      "source": [
        "#import the necesssary libraries\n",
        "import numpy as np\n",
        "import matplotlib.pyplot as plt\n",
        "plt.style.use('fivethirtyeight')\n",
        "import pandas as pd\n",
        "from sklearn.preprocessing import MinMaxScaler\n",
        "from keras.models import Sequential\n",
        "from keras.layers import Dense, LSTM, GRU, Dropout, Bidirectional\n",
        "from keras.optimizers import SGD\n",
        "import math\n",
        "from sklearn.metrics import mean_squared_error\n",
        "from sklearn.model_selection import train_test_split\n",
        "from sklearn.ensemble import RandomForestRegressor, AdaBoostRegressor\n",
        "import os\n",
        "import warnings\n",
        "warnings.filterwarnings('ignore')\n",
        "import matplotlib.pyplot as plt\n",
        "import itertools\n",
        "from statsmodels.tsa.stattools import adfuller, acf, pacf\n",
        "from statsmodels.tsa.arima_model import ARIMA\n",
        "import nltk\n",
        "import re\n",
        "from nltk.corpus import stopwords\n",
        "nltk.download('stopwords')\n",
        "nltk.download('vader_lexicon')\n",
        "from textblob import TextBlob\n",
        "from nltk.sentiment.vader import SentimentIntensityAnalyzer\n",
        "from nltk.stem.porter import PorterStemmer\n",
        "import xgboost \n",
        "import lightgbm"
      ],
      "execution_count": 20,
      "outputs": [
        {
          "output_type": "stream",
          "text": [
            "[nltk_data] Downloading package stopwords to /root/nltk_data...\n",
            "[nltk_data]   Package stopwords is already up-to-date!\n",
            "[nltk_data] Downloading package vader_lexicon to /root/nltk_data...\n",
            "[nltk_data]   Package vader_lexicon is already up-to-date!\n"
          ],
          "name": "stdout"
        }
      ]
    },
    {
      "cell_type": "code",
      "metadata": {
        "id": "Jt6iXk1HJvn_"
      },
      "source": [
        "# Some functions to help out with\n",
        "def plot_predictions(test,predicted):\n",
        "    plt.plot(test, color='red',label = 'Real BSESN Stock Price')\n",
        "    plt.plot(predicted, color='blue',label = 'Predicted BSESN Stock Price')\n",
        "    plt.title('BSESN Stock Price Prediction')\n",
        "    plt.xlabel('Time')\n",
        "    plt.ylabel('BSESN Stock Price')\n",
        "    plt.legend()\n",
        "    plt.show()\n",
        "\n",
        "def return_rmse(test,predicted):\n",
        "    rmse = math.sqrt(mean_squared_error(test, predicted))\n",
        "    print(\"The root mean squared error is {}.\".format(rmse))"
      ],
      "execution_count": 21,
      "outputs": []
    },
    {
      "cell_type": "code",
      "metadata": {
        "colab": {
          "base_uri": "https://localhost:8080/"
        },
        "id": "2W2V1HwM6d6H",
        "outputId": "13c6ad5a-92a5-46c2-96fd-ecfbb3336f5e"
      },
      "source": [
        "pip install yfinance"
      ],
      "execution_count": 22,
      "outputs": [
        {
          "output_type": "stream",
          "text": [
            "Requirement already satisfied: yfinance in /usr/local/lib/python3.7/dist-packages (0.1.59)\n",
            "Requirement already satisfied: numpy>=1.15 in /usr/local/lib/python3.7/dist-packages (from yfinance) (1.19.5)\n",
            "Requirement already satisfied: pandas>=0.24 in /usr/local/lib/python3.7/dist-packages (from yfinance) (1.1.5)\n",
            "Requirement already satisfied: multitasking>=0.0.7 in /usr/local/lib/python3.7/dist-packages (from yfinance) (0.0.9)\n",
            "Requirement already satisfied: lxml>=4.5.1 in /usr/local/lib/python3.7/dist-packages (from yfinance) (4.6.3)\n",
            "Requirement already satisfied: requests>=2.20 in /usr/local/lib/python3.7/dist-packages (from yfinance) (2.23.0)\n",
            "Requirement already satisfied: pytz>=2017.2 in /usr/local/lib/python3.7/dist-packages (from pandas>=0.24->yfinance) (2018.9)\n",
            "Requirement already satisfied: python-dateutil>=2.7.3 in /usr/local/lib/python3.7/dist-packages (from pandas>=0.24->yfinance) (2.8.1)\n",
            "Requirement already satisfied: urllib3!=1.25.0,!=1.25.1,<1.26,>=1.21.1 in /usr/local/lib/python3.7/dist-packages (from requests>=2.20->yfinance) (1.24.3)\n",
            "Requirement already satisfied: chardet<4,>=3.0.2 in /usr/local/lib/python3.7/dist-packages (from requests>=2.20->yfinance) (3.0.4)\n",
            "Requirement already satisfied: certifi>=2017.4.17 in /usr/local/lib/python3.7/dist-packages (from requests>=2.20->yfinance) (2021.5.30)\n",
            "Requirement already satisfied: idna<3,>=2.5 in /usr/local/lib/python3.7/dist-packages (from requests>=2.20->yfinance) (2.10)\n",
            "Requirement already satisfied: six>=1.5 in /usr/local/lib/python3.7/dist-packages (from python-dateutil>=2.7.3->pandas>=0.24->yfinance) (1.15.0)\n"
          ],
          "name": "stdout"
        }
      ]
    },
    {
      "cell_type": "code",
      "metadata": {
        "colab": {
          "base_uri": "https://localhost:8080/"
        },
        "id": "Xr61E0WC6cyG",
        "outputId": "70fcc36c-e601-4c49-a17f-0a749aaf4760"
      },
      "source": [
        "import yfinance as yf\n",
        "bse_data = yf.download('^BSESN', start='2001-01-02', end='2004-12-13')"
      ],
      "execution_count": 23,
      "outputs": [
        {
          "output_type": "stream",
          "text": [
            "\r[*********************100%***********************]  1 of 1 completed\n"
          ],
          "name": "stdout"
        }
      ]
    },
    {
      "cell_type": "code",
      "metadata": {
        "colab": {
          "base_uri": "https://localhost:8080/",
          "height": 228
        },
        "id": "5N2IFAx16t-T",
        "outputId": "05da0b76-4a03-46fa-aa35-627102bf2abb"
      },
      "source": [
        "dataset = bse_data\n",
        "#dataset.set_index(\"Date\", inplace = True)\n",
        "dataset.tail()"
      ],
      "execution_count": 24,
      "outputs": [
        {
          "output_type": "execute_result",
          "data": {
            "text/html": [
              "<div>\n",
              "<style scoped>\n",
              "    .dataframe tbody tr th:only-of-type {\n",
              "        vertical-align: middle;\n",
              "    }\n",
              "\n",
              "    .dataframe tbody tr th {\n",
              "        vertical-align: top;\n",
              "    }\n",
              "\n",
              "    .dataframe thead th {\n",
              "        text-align: right;\n",
              "    }\n",
              "</style>\n",
              "<table border=\"1\" class=\"dataframe\">\n",
              "  <thead>\n",
              "    <tr style=\"text-align: right;\">\n",
              "      <th></th>\n",
              "      <th>Open</th>\n",
              "      <th>High</th>\n",
              "      <th>Low</th>\n",
              "      <th>Close</th>\n",
              "      <th>Adj Close</th>\n",
              "      <th>Volume</th>\n",
              "    </tr>\n",
              "    <tr>\n",
              "      <th>Date</th>\n",
              "      <th></th>\n",
              "      <th></th>\n",
              "      <th></th>\n",
              "      <th></th>\n",
              "      <th></th>\n",
              "      <th></th>\n",
              "    </tr>\n",
              "  </thead>\n",
              "  <tbody>\n",
              "    <tr>\n",
              "      <th>2004-12-06</th>\n",
              "      <td>6351.040039</td>\n",
              "      <td>6386.290039</td>\n",
              "      <td>6312.129883</td>\n",
              "      <td>6322.500000</td>\n",
              "      <td>6322.500000</td>\n",
              "      <td>18800</td>\n",
              "    </tr>\n",
              "    <tr>\n",
              "      <th>2004-12-07</th>\n",
              "      <td>6324.069824</td>\n",
              "      <td>6354.259766</td>\n",
              "      <td>6287.459961</td>\n",
              "      <td>6316.279785</td>\n",
              "      <td>6316.279785</td>\n",
              "      <td>17800</td>\n",
              "    </tr>\n",
              "    <tr>\n",
              "      <th>2004-12-08</th>\n",
              "      <td>6333.040039</td>\n",
              "      <td>6359.200195</td>\n",
              "      <td>6250.240234</td>\n",
              "      <td>6261.520020</td>\n",
              "      <td>6261.520020</td>\n",
              "      <td>26000</td>\n",
              "    </tr>\n",
              "    <tr>\n",
              "      <th>2004-12-09</th>\n",
              "      <td>6259.500000</td>\n",
              "      <td>6319.009766</td>\n",
              "      <td>6241.270020</td>\n",
              "      <td>6304.270020</td>\n",
              "      <td>6304.270020</td>\n",
              "      <td>19400</td>\n",
              "    </tr>\n",
              "    <tr>\n",
              "      <th>2004-12-10</th>\n",
              "      <td>6328.100098</td>\n",
              "      <td>6336.899902</td>\n",
              "      <td>6221.399902</td>\n",
              "      <td>6233.540039</td>\n",
              "      <td>6233.540039</td>\n",
              "      <td>17600</td>\n",
              "    </tr>\n",
              "  </tbody>\n",
              "</table>\n",
              "</div>"
            ],
            "text/plain": [
              "                   Open         High  ...    Adj Close  Volume\n",
              "Date                                  ...                     \n",
              "2004-12-06  6351.040039  6386.290039  ...  6322.500000   18800\n",
              "2004-12-07  6324.069824  6354.259766  ...  6316.279785   17800\n",
              "2004-12-08  6333.040039  6359.200195  ...  6261.520020   26000\n",
              "2004-12-09  6259.500000  6319.009766  ...  6304.270020   19400\n",
              "2004-12-10  6328.100098  6336.899902  ...  6233.540039   17600\n",
              "\n",
              "[5 rows x 6 columns]"
            ]
          },
          "metadata": {
            "tags": []
          },
          "execution_count": 24
        }
      ]
    },
    {
      "cell_type": "code",
      "metadata": {
        "colab": {
          "base_uri": "https://localhost:8080/",
          "height": 198
        },
        "id": "-n7dbicJ9qEc",
        "outputId": "fd36606a-70b6-4b3e-89fb-6948ff88a267"
      },
      "source": [
        "dataset.reset_index(inplace=True)\n",
        "dataset.rename(columns={'Date': 'date'}, inplace = True)\n",
        "dataset.rename(columns={'date': 'Date'}, inplace = True)\n",
        "dataset.head()"
      ],
      "execution_count": 25,
      "outputs": [
        {
          "output_type": "execute_result",
          "data": {
            "text/html": [
              "<div>\n",
              "<style scoped>\n",
              "    .dataframe tbody tr th:only-of-type {\n",
              "        vertical-align: middle;\n",
              "    }\n",
              "\n",
              "    .dataframe tbody tr th {\n",
              "        vertical-align: top;\n",
              "    }\n",
              "\n",
              "    .dataframe thead th {\n",
              "        text-align: right;\n",
              "    }\n",
              "</style>\n",
              "<table border=\"1\" class=\"dataframe\">\n",
              "  <thead>\n",
              "    <tr style=\"text-align: right;\">\n",
              "      <th></th>\n",
              "      <th>Date</th>\n",
              "      <th>Open</th>\n",
              "      <th>High</th>\n",
              "      <th>Low</th>\n",
              "      <th>Close</th>\n",
              "      <th>Adj Close</th>\n",
              "      <th>Volume</th>\n",
              "    </tr>\n",
              "  </thead>\n",
              "  <tbody>\n",
              "    <tr>\n",
              "      <th>0</th>\n",
              "      <td>2001-01-02</td>\n",
              "      <td>3953.219971</td>\n",
              "      <td>4028.570068</td>\n",
              "      <td>3929.370117</td>\n",
              "      <td>4018.879883</td>\n",
              "      <td>4018.879883</td>\n",
              "      <td>0</td>\n",
              "    </tr>\n",
              "    <tr>\n",
              "      <th>1</th>\n",
              "      <td>2001-01-03</td>\n",
              "      <td>3977.580078</td>\n",
              "      <td>4067.659912</td>\n",
              "      <td>3977.580078</td>\n",
              "      <td>4060.020020</td>\n",
              "      <td>4060.020020</td>\n",
              "      <td>0</td>\n",
              "    </tr>\n",
              "    <tr>\n",
              "      <th>2</th>\n",
              "      <td>2001-01-04</td>\n",
              "      <td>4180.970215</td>\n",
              "      <td>4180.970215</td>\n",
              "      <td>4109.549805</td>\n",
              "      <td>4115.370117</td>\n",
              "      <td>4115.370117</td>\n",
              "      <td>0</td>\n",
              "    </tr>\n",
              "    <tr>\n",
              "      <th>3</th>\n",
              "      <td>2001-01-05</td>\n",
              "      <td>4116.339844</td>\n",
              "      <td>4195.009766</td>\n",
              "      <td>4115.350098</td>\n",
              "      <td>4183.729980</td>\n",
              "      <td>4183.729980</td>\n",
              "      <td>0</td>\n",
              "    </tr>\n",
              "    <tr>\n",
              "      <th>4</th>\n",
              "      <td>2001-01-08</td>\n",
              "      <td>4164.759766</td>\n",
              "      <td>4206.720215</td>\n",
              "      <td>4101.529785</td>\n",
              "      <td>4120.430176</td>\n",
              "      <td>4120.430176</td>\n",
              "      <td>0</td>\n",
              "    </tr>\n",
              "  </tbody>\n",
              "</table>\n",
              "</div>"
            ],
            "text/plain": [
              "        Date         Open         High  ...        Close    Adj Close  Volume\n",
              "0 2001-01-02  3953.219971  4028.570068  ...  4018.879883  4018.879883       0\n",
              "1 2001-01-03  3977.580078  4067.659912  ...  4060.020020  4060.020020       0\n",
              "2 2001-01-04  4180.970215  4180.970215  ...  4115.370117  4115.370117       0\n",
              "3 2001-01-05  4116.339844  4195.009766  ...  4183.729980  4183.729980       0\n",
              "4 2001-01-08  4164.759766  4206.720215  ...  4120.430176  4120.430176       0\n",
              "\n",
              "[5 rows x 7 columns]"
            ]
          },
          "metadata": {
            "tags": []
          },
          "execution_count": 25
        }
      ]
    },
    {
      "cell_type": "code",
      "metadata": {
        "colab": {
          "base_uri": "https://localhost:8080/"
        },
        "id": "BtujEd63J-K-",
        "outputId": "796bc4a8-cf1c-45c5-dcf9-528e79506d65"
      },
      "source": [
        "#Getting \"High\" attribute\n",
        "df2 = dataset['High']\n",
        "df2.head"
      ],
      "execution_count": 26,
      "outputs": [
        {
          "output_type": "execute_result",
          "data": {
            "text/plain": [
              "<bound method NDFrame.head of 0      4028.570068\n",
              "1      4067.659912\n",
              "2      4180.970215\n",
              "3      4195.009766\n",
              "4      4206.720215\n",
              "          ...     \n",
              "978    6386.290039\n",
              "979    6354.259766\n",
              "980    6359.200195\n",
              "981    6319.009766\n",
              "982    6336.899902\n",
              "Name: High, Length: 983, dtype: float64>"
            ]
          },
          "metadata": {
            "tags": []
          },
          "execution_count": 26
        }
      ]
    },
    {
      "cell_type": "code",
      "metadata": {
        "colab": {
          "base_uri": "https://localhost:8080/"
        },
        "id": "ZHxJTnTFTA9J",
        "outputId": "e9d79f5b-4cff-4a18-8f6a-d238c1b9c1e0"
      },
      "source": [
        "#In the above, no index is present. The data is presented as Date, values\n",
        "#We need the index number for the mc learning model \n",
        "#Therefore, use 'reset_index' method to get the index.\n",
        "\n",
        "#get attribute 'Close'\n",
        "df1 = dataset.reset_index()['High']\n",
        "df1"
      ],
      "execution_count": 27,
      "outputs": [
        {
          "output_type": "execute_result",
          "data": {
            "text/plain": [
              "0      4028.570068\n",
              "1      4067.659912\n",
              "2      4180.970215\n",
              "3      4195.009766\n",
              "4      4206.720215\n",
              "          ...     \n",
              "978    6386.290039\n",
              "979    6354.259766\n",
              "980    6359.200195\n",
              "981    6319.009766\n",
              "982    6336.899902\n",
              "Name: High, Length: 983, dtype: float64"
            ]
          },
          "metadata": {
            "tags": []
          },
          "execution_count": 27
        }
      ]
    },
    {
      "cell_type": "code",
      "metadata": {
        "colab": {
          "base_uri": "https://localhost:8080/"
        },
        "id": "HBFPdUlWkLrf",
        "outputId": "10115033-9202-4f06-e759-970e3f56e605"
      },
      "source": [
        "dataset.size"
      ],
      "execution_count": 28,
      "outputs": [
        {
          "output_type": "execute_result",
          "data": {
            "text/plain": [
              "6881"
            ]
          },
          "metadata": {
            "tags": []
          },
          "execution_count": 28
        }
      ]
    },
    {
      "cell_type": "code",
      "metadata": {
        "colab": {
          "base_uri": "https://localhost:8080/"
        },
        "id": "ab2lmQ-Tkqr9",
        "outputId": "d8983a0a-5205-4e4b-b58b-3e9f21215606"
      },
      "source": [
        "dataset.info()"
      ],
      "execution_count": 29,
      "outputs": [
        {
          "output_type": "stream",
          "text": [
            "<class 'pandas.core.frame.DataFrame'>\n",
            "RangeIndex: 983 entries, 0 to 982\n",
            "Data columns (total 7 columns):\n",
            " #   Column     Non-Null Count  Dtype         \n",
            "---  ------     --------------  -----         \n",
            " 0   Date       983 non-null    datetime64[ns]\n",
            " 1   Open       983 non-null    float64       \n",
            " 2   High       983 non-null    float64       \n",
            " 3   Low        983 non-null    float64       \n",
            " 4   Close      983 non-null    float64       \n",
            " 5   Adj Close  983 non-null    float64       \n",
            " 6   Volume     983 non-null    int64         \n",
            "dtypes: datetime64[ns](1), float64(5), int64(1)\n",
            "memory usage: 53.9 KB\n"
          ],
          "name": "stdout"
        }
      ]
    },
    {
      "cell_type": "code",
      "metadata": {
        "colab": {
          "base_uri": "https://localhost:8080/",
          "height": 282
        },
        "id": "IILD-UZWUfPS",
        "outputId": "ca1e3cc5-bc6b-4ab8-ee73-6e8dc416b740"
      },
      "source": [
        "#PLot data\n",
        "#..........Method 2\n",
        "dataset['High'].plot(figsize=(16,4) , color = 'red' )\n",
        "plt.show()"
      ],
      "execution_count": 30,
      "outputs": [
        {
          "output_type": "display_data",
          "data": {
            "image/png": "[encoded data removed]",
            "text/plain": [
              "<Figure size 1152x288 with 1 Axes>"
            ]
          },
          "metadata": {
            "tags": []
          }
        }
      ]
    },
    {
      "cell_type": "code",
      "metadata": {
        "colab": {
          "base_uri": "https://localhost:8080/"
        },
        "id": "ISamlRlyW9nD",
        "outputId": "b4d2d381-1162-4e39-ea0b-2f69efa545c5"
      },
      "source": [
        "# Reshape the dataset \n",
        "df1 = np.array(df1).reshape(-1 , 1)\n",
        "df1[:5]"
      ],
      "execution_count": 31,
      "outputs": [
        {
          "output_type": "execute_result",
          "data": {
            "text/plain": [
              "array([[4028.57006836],\n",
              "       [4067.65991211],\n",
              "       [4180.97021484],\n",
              "       [4195.00976562],\n",
              "       [4206.72021484]])"
            ]
          },
          "metadata": {
            "tags": []
          },
          "execution_count": 31
        }
      ]
    },
    {
      "cell_type": "code",
      "metadata": {
        "id": "9alO8WaGZBZa"
      },
      "source": [
        "# split the data into train and test data\n",
        "trainSize = int(len(df1)*0.67)\n",
        "testSize = len(df1) - trainSize\n",
        "trainData , testData = df1[0:trainSize , : ] , df1[trainSize : len(df1),:1]\n",
        "\n",
        "#df1[a :b , c: d] format is present because dataset has rows and column."
      ],
      "execution_count": 32,
      "outputs": []
    },
    {
      "cell_type": "code",
      "metadata": {
        "colab": {
          "base_uri": "https://localhost:8080/"
        },
        "id": "4LxqrlGt2D9e",
        "outputId": "5a7012ca-c0f7-4e16-f85f-122ab6f5d1ad"
      },
      "source": [
        "trainData[:5]"
      ],
      "execution_count": 33,
      "outputs": [
        {
          "output_type": "execute_result",
          "data": {
            "text/plain": [
              "array([[4028.57006836],\n",
              "       [4067.65991211],\n",
              "       [4180.97021484],\n",
              "       [4195.00976562],\n",
              "       [4206.72021484]])"
            ]
          },
          "metadata": {
            "tags": []
          },
          "execution_count": 33
        }
      ]
    },
    {
      "cell_type": "code",
      "metadata": {
        "colab": {
          "base_uri": "https://localhost:8080/"
        },
        "id": "7GCjaZd02F9m",
        "outputId": "7bc736bf-fd42-4022-b111-bb34ba841b99"
      },
      "source": [
        "testData[:5]"
      ],
      "execution_count": 34,
      "outputs": [
        {
          "output_type": "execute_result",
          "data": {
            "text/plain": [
              "array([[4160.02001953],\n",
              "       [4222.39013672],\n",
              "       [4256.06982422],\n",
              "       [4277.64013672],\n",
              "       [4329.56982422]])"
            ]
          },
          "metadata": {
            "tags": []
          },
          "execution_count": 34
        }
      ]
    },
    {
      "cell_type": "code",
      "metadata": {
        "colab": {
          "base_uri": "https://localhost:8080/"
        },
        "id": "rhPzZIGD_oYI",
        "outputId": "ce154c47-b3d3-4e05-c4fd-6fd27f0b091b"
      },
      "source": [
        "trainData = np.log(trainData) \n",
        "testData = np.log(testData)\n",
        "trainData[:5]"
      ],
      "execution_count": 35,
      "outputs": [
        {
          "output_type": "execute_result",
          "data": {
            "text/plain": [
              "array([[8.30116677],\n",
              "       [8.31082315],\n",
              "       [8.33829861],\n",
              "       [8.34165095],\n",
              "       [8.34443858]])"
            ]
          },
          "metadata": {
            "tags": []
          },
          "execution_count": 35
        }
      ]
    },
    {
      "cell_type": "code",
      "metadata": {
        "colab": {
          "base_uri": "https://localhost:8080/"
        },
        "id": "QyUf3J8c1lGM",
        "outputId": "a0a6d2b3-7812-4ec8-9453-30fd436fce33"
      },
      "source": [
        "testData[:5]"
      ],
      "execution_count": 36,
      "outputs": [
        {
          "output_type": "execute_result",
          "data": {
            "text/plain": [
              "array([[8.33327517],\n",
              "       [8.34815663],\n",
              "       [8.35610144],\n",
              "       [8.36115677],\n",
              "       [8.37322347]])"
            ]
          },
          "metadata": {
            "tags": []
          },
          "execution_count": 36
        }
      ]
    },
    {
      "cell_type": "code",
      "metadata": {
        "id": "ucgwR-wLZO_U"
      },
      "source": [
        "# Scaling the data\n",
        "# Line 1 : Def Scaling to range (0,1)\n",
        "# Line 2 : Scaling\n",
        "scaler = MinMaxScaler(feature_range=(0,1))\n",
        "trainData = scaler.fit_transform(trainData)"
      ],
      "execution_count": 37,
      "outputs": []
    },
    {
      "cell_type": "code",
      "metadata": {
        "colab": {
          "base_uri": "https://localhost:8080/"
        },
        "id": "8KrZA_Gh2SuN",
        "outputId": "4089a5b8-a50a-4126-ef24-0d2f2b77e921"
      },
      "source": [
        "trainData[:5]"
      ],
      "execution_count": 38,
      "outputs": [
        {
          "output_type": "execute_result",
          "data": {
            "text/plain": [
              "array([[0.79913049],\n",
              "       [0.81810778],\n",
              "       [0.87210415],\n",
              "       [0.87869236],\n",
              "       [0.88417078]])"
            ]
          },
          "metadata": {
            "tags": []
          },
          "execution_count": 38
        }
      ]
    },
    {
      "cell_type": "code",
      "metadata": {
        "colab": {
          "base_uri": "https://localhost:8080/"
        },
        "id": "eVos9jG7dMwD",
        "outputId": "a8a7089f-14b8-42b6-f303-c7ba42bb77e7"
      },
      "source": [
        "trainData.shape"
      ],
      "execution_count": 39,
      "outputs": [
        {
          "output_type": "execute_result",
          "data": {
            "text/plain": [
              "(658, 1)"
            ]
          },
          "metadata": {
            "tags": []
          },
          "execution_count": 39
        }
      ]
    },
    {
      "cell_type": "code",
      "metadata": {
        "id": "y1I50HNTZ5UZ"
      },
      "source": [
        "# Now create the xTrain and yTrain from the trainData(i.e training data)\n",
        "\n",
        "xTrain, yTrain = [] , []\n",
        "\n",
        "for i in range(60, 658):\n",
        "    xTrain.append(trainData[i-60 : i , 0])\n",
        "    yTrain.append(trainData[i,0])\n",
        "\n",
        "xTrain, yTrain = np.array(xTrain) , np.array(yTrain)"
      ],
      "execution_count": 40,
      "outputs": []
    },
    {
      "cell_type": "code",
      "metadata": {
        "colab": {
          "base_uri": "https://localhost:8080/"
        },
        "id": "HP9b-b01c5sX",
        "outputId": "a1c0ec41-aa7b-4a87-85ed-499a358c14ee"
      },
      "source": [
        "xTrain.shape"
      ],
      "execution_count": 41,
      "outputs": [
        {
          "output_type": "execute_result",
          "data": {
            "text/plain": [
              "(598, 60)"
            ]
          },
          "metadata": {
            "tags": []
          },
          "execution_count": 41
        }
      ]
    },
    {
      "cell_type": "code",
      "metadata": {
        "id": "FE8Xevk2dVQS"
      },
      "source": [
        "##Reshaping xTrain for efficient modelling\n",
        "#xTrain = xTrain.reshape(-1 , 1)\n",
        "\n",
        "#Reshaping xTrain for efficient modelling\n",
        "xTrain = np.reshape(xTrain , (xTrain.shape[0] , xTrain.shape[1] , 1))"
      ],
      "execution_count": 42,
      "outputs": []
    },
    {
      "cell_type": "code",
      "metadata": {
        "colab": {
          "base_uri": "https://localhost:8080/"
        },
        "id": "sVrZtj-8dr8s",
        "outputId": "dc20ec78-35d8-4dd6-99c1-09bc0c8f5d56"
      },
      "source": [
        "xTrain.shape"
      ],
      "execution_count": 43,
      "outputs": [
        {
          "output_type": "execute_result",
          "data": {
            "text/plain": [
              "(598, 60, 1)"
            ]
          },
          "metadata": {
            "tags": []
          },
          "execution_count": 43
        }
      ]
    },
    {
      "cell_type": "markdown",
      "metadata": {
        "id": "ke29fj7-d7_9"
      },
      "source": [
        "### **Attention**"
      ]
    },
    {
      "cell_type": "code",
      "metadata": {
        "colab": {
          "base_uri": "https://localhost:8080/"
        },
        "id": "sywlfAt3O4lg",
        "outputId": "a2b88d08-30b5-4cb0-f705-0636f0128a0e"
      },
      "source": [
        "pip install attention"
      ],
      "execution_count": 44,
      "outputs": [
        {
          "output_type": "stream",
          "text": [
            "Collecting attention\n",
            "  Downloading https://files.pythonhosted.org/packages/cb/3f/d8b19195a2f5827dcbf0ee6d7e6fe4352f42dcc60693bdb1e431440c8b59/attention-4.0-py2.py3-none-any.whl\n",
            "Requirement already satisfied: numpy>=1.18.1 in /usr/local/lib/python3.7/dist-packages (from attention) (1.19.5)\n",
            "Requirement already satisfied: tensorflow>=2.1 in /usr/local/lib/python3.7/dist-packages (from attention) (2.5.0)\n",
            "Requirement already satisfied: termcolor~=1.1.0 in /usr/local/lib/python3.7/dist-packages (from tensorflow>=2.1->attention) (1.1.0)\n",
            "Requirement already satisfied: wrapt~=1.12.1 in /usr/local/lib/python3.7/dist-packages (from tensorflow>=2.1->attention) (1.12.1)\n",
            "Requirement already satisfied: typing-extensions~=3.7.4 in /usr/local/lib/python3.7/dist-packages (from tensorflow>=2.1->attention) (3.7.4.3)\n",
            "Requirement already satisfied: google-pasta~=0.2 in /usr/local/lib/python3.7/dist-packages (from tensorflow>=2.1->attention) (0.2.0)\n",
            "Requirement already satisfied: absl-py~=0.10 in /usr/local/lib/python3.7/dist-packages (from tensorflow>=2.1->attention) (0.12.0)\n",
            "Requirement already satisfied: opt-einsum~=3.3.0 in /usr/local/lib/python3.7/dist-packages (from tensorflow>=2.1->attention) (3.3.0)\n",
            "Requirement already satisfied: grpcio~=1.34.0 in /usr/local/lib/python3.7/dist-packages (from tensorflow>=2.1->attention) (1.34.1)\n",
            "Requirement already satisfied: astunparse~=1.6.3 in /usr/local/lib/python3.7/dist-packages (from tensorflow>=2.1->attention) (1.6.3)\n",
            "Requirement already satisfied: tensorflow-estimator<2.6.0,>=2.5.0rc0 in /usr/local/lib/python3.7/dist-packages (from tensorflow>=2.1->attention) (2.5.0)\n",
            "Requirement already satisfied: keras-nightly~=2.5.0.dev in /usr/local/lib/python3.7/dist-packages (from tensorflow>=2.1->attention) (2.5.0.dev2021032900)\n",
            "Requirement already satisfied: h5py~=3.1.0 in /usr/local/lib/python3.7/dist-packages (from tensorflow>=2.1->attention) (3.1.0)\n",
            "Requirement already satisfied: tensorboard~=2.5 in /usr/local/lib/python3.7/dist-packages (from tensorflow>=2.1->attention) (2.5.0)\n",
            "Requirement already satisfied: keras-preprocessing~=1.1.2 in /usr/local/lib/python3.7/dist-packages (from tensorflow>=2.1->attention) (1.1.2)\n",
            "Requirement already satisfied: protobuf>=3.9.2 in /usr/local/lib/python3.7/dist-packages (from tensorflow>=2.1->attention) (3.12.4)\n",
            "Requirement already satisfied: six~=1.15.0 in /usr/local/lib/python3.7/dist-packages (from tensorflow>=2.1->attention) (1.15.0)\n",
            "Requirement already satisfied: flatbuffers~=1.12.0 in /usr/local/lib/python3.7/dist-packages (from tensorflow>=2.1->attention) (1.12)\n",
            "Requirement already satisfied: gast==0.4.0 in /usr/local/lib/python3.7/dist-packages (from tensorflow>=2.1->attention) (0.4.0)\n",
            "Requirement already satisfied: wheel~=0.35 in /usr/local/lib/python3.7/dist-packages (from tensorflow>=2.1->attention) (0.36.2)\n",
            "Requirement already satisfied: cached-property; python_version < \"3.8\" in /usr/local/lib/python3.7/dist-packages (from h5py~=3.1.0->tensorflow>=2.1->attention) (1.5.2)\n",
            "Requirement already satisfied: tensorboard-data-server<0.7.0,>=0.6.0 in /usr/local/lib/python3.7/dist-packages (from tensorboard~=2.5->tensorflow>=2.1->attention) (0.6.1)\n",
            "Requirement already satisfied: werkzeug>=0.11.15 in /usr/local/lib/python3.7/dist-packages (from tensorboard~=2.5->tensorflow>=2.1->attention) (1.0.1)\n",
            "Requirement already satisfied: markdown>=2.6.8 in /usr/local/lib/python3.7/dist-packages (from tensorboard~=2.5->tensorflow>=2.1->attention) (3.3.4)\n",
            "Requirement already satisfied: tensorboard-plugin-wit>=1.6.0 in /usr/local/lib/python3.7/dist-packages (from tensorboard~=2.5->tensorflow>=2.1->attention) (1.8.0)\n",
            "Requirement already satisfied: setuptools>=41.0.0 in /usr/local/lib/python3.7/dist-packages (from tensorboard~=2.5->tensorflow>=2.1->attention) (57.0.0)\n",
            "Requirement already satisfied: google-auth-oauthlib<0.5,>=0.4.1 in /usr/local/lib/python3.7/dist-packages (from tensorboard~=2.5->tensorflow>=2.1->attention) (0.4.4)\n",
            "Requirement already satisfied: requests<3,>=2.21.0 in /usr/local/lib/python3.7/dist-packages (from tensorboard~=2.5->tensorflow>=2.1->attention) (2.23.0)\n",
            "Requirement already satisfied: google-auth<2,>=1.6.3 in /usr/local/lib/python3.7/dist-packages (from tensorboard~=2.5->tensorflow>=2.1->attention) (1.31.0)\n",
            "Requirement already satisfied: importlib-metadata; python_version < \"3.8\" in /usr/local/lib/python3.7/dist-packages (from markdown>=2.6.8->tensorboard~=2.5->tensorflow>=2.1->attention) (4.5.0)\n",
            "Requirement already satisfied: requests-oauthlib>=0.7.0 in /usr/local/lib/python3.7/dist-packages (from google-auth-oauthlib<0.5,>=0.4.1->tensorboard~=2.5->tensorflow>=2.1->attention) (1.3.0)\n",
            "Requirement already satisfied: urllib3!=1.25.0,!=1.25.1,<1.26,>=1.21.1 in /usr/local/lib/python3.7/dist-packages (from requests<3,>=2.21.0->tensorboard~=2.5->tensorflow>=2.1->attention) (1.24.3)\n",
            "Requirement already satisfied: chardet<4,>=3.0.2 in /usr/local/lib/python3.7/dist-packages (from requests<3,>=2.21.0->tensorboard~=2.5->tensorflow>=2.1->attention) (3.0.4)\n",
            "Requirement already satisfied: certifi>=2017.4.17 in /usr/local/lib/python3.7/dist-packages (from requests<3,>=2.21.0->tensorboard~=2.5->tensorflow>=2.1->attention) (2021.5.30)\n",
            "Requirement already satisfied: idna<3,>=2.5 in /usr/local/lib/python3.7/dist-packages (from requests<3,>=2.21.0->tensorboard~=2.5->tensorflow>=2.1->attention) (2.10)\n",
            "Requirement already satisfied: rsa<5,>=3.1.4; python_version >= \"3.6\" in /usr/local/lib/python3.7/dist-packages (from google-auth<2,>=1.6.3->tensorboard~=2.5->tensorflow>=2.1->attention) (4.7.2)\n",
            "Requirement already satisfied: cachetools<5.0,>=2.0.0 in /usr/local/lib/python3.7/dist-packages (from google-auth<2,>=1.6.3->tensorboard~=2.5->tensorflow>=2.1->attention) (4.2.2)\n",
            "Requirement already satisfied: pyasn1-modules>=0.2.1 in /usr/local/lib/python3.7/dist-packages (from google-auth<2,>=1.6.3->tensorboard~=2.5->tensorflow>=2.1->attention) (0.2.8)\n",
            "Requirement already satisfied: zipp>=0.5 in /usr/local/lib/python3.7/dist-packages (from importlib-metadata; python_version < \"3.8\"->markdown>=2.6.8->tensorboard~=2.5->tensorflow>=2.1->attention) (3.4.1)\n",
            "Requirement already satisfied: oauthlib>=3.0.0 in /usr/local/lib/python3.7/dist-packages (from requests-oauthlib>=0.7.0->google-auth-oauthlib<0.5,>=0.4.1->tensorboard~=2.5->tensorflow>=2.1->attention) (3.1.1)\n",
            "Requirement already satisfied: pyasn1>=0.1.3 in /usr/local/lib/python3.7/dist-packages (from rsa<5,>=3.1.4; python_version >= \"3.6\"->google-auth<2,>=1.6.3->tensorboard~=2.5->tensorflow>=2.1->attention) (0.4.8)\n",
            "Installing collected packages: attention\n",
            "Successfully installed attention-4.0\n"
          ],
          "name": "stdout"
        }
      ]
    },
    {
      "cell_type": "code",
      "metadata": {
        "id": "kCauI9ptO6qS"
      },
      "source": [
        "import numpy as np\n",
        "from tensorflow.keras import Input\n",
        "from tensorflow.keras.layers import Dense, LSTM\n",
        "from tensorflow.keras.models import load_model, Model\n",
        "from attention import Attention"
      ],
      "execution_count": 45,
      "outputs": []
    },
    {
      "cell_type": "code",
      "metadata": {
        "colab": {
          "base_uri": "https://localhost:8080/"
        },
        "id": "T2S5J45kOW5g",
        "outputId": "3457b9bd-54bd-44b5-b39e-2b08dfc19315"
      },
      "source": [
        "# Attention layer\n",
        "time_steps, input_dim, output_dim =  60, 1, 1\n",
        "\n",
        "# Define/compile the model.\n",
        "model_input = Input(shape=(time_steps, input_dim))\n",
        "x = LSTM(64, return_sequences=True)(model_input)\n",
        "x = Attention(32)(x)\n",
        "x = Dense(1)(x)\n",
        "model = Model(model_input, x)\n",
        "model.compile(loss='mean_squared_error', optimizer='rmsprop')\n",
        "#print(model.summary())\n",
        "\n",
        "# train.\n",
        "#model.fit(xTrain, yTrain, epochs=10)\n",
        "model.fit(xTrain, yTrain, epochs=50, batch_size = 32)"
      ],
      "execution_count": 46,
      "outputs": [
        {
          "output_type": "stream",
          "text": [
            "Epoch 1/50\n",
            "19/19 [==============================] - 2s 26ms/step - loss: 0.0213\n",
            "Epoch 2/50\n",
            "19/19 [==============================] - 1s 26ms/step - loss: 0.0061\n",
            "Epoch 3/50\n",
            "19/19 [==============================] - 0s 26ms/step - loss: 0.0043\n",
            "Epoch 4/50\n",
            "19/19 [==============================] - 0s 26ms/step - loss: 0.0036\n",
            "Epoch 5/50\n",
            "19/19 [==============================] - 0s 26ms/step - loss: 0.0026\n",
            "Epoch 6/50\n",
            "19/19 [==============================] - 0s 26ms/step - loss: 0.0028\n",
            "Epoch 7/50\n",
            "19/19 [==============================] - 0s 25ms/step - loss: 0.0024\n",
            "Epoch 8/50\n",
            "19/19 [==============================] - 0s 25ms/step - loss: 0.0025\n",
            "Epoch 9/50\n",
            "19/19 [==============================] - 1s 26ms/step - loss: 0.0023\n",
            "Epoch 10/50\n",
            "19/19 [==============================] - 1s 27ms/step - loss: 0.0018\n",
            "Epoch 11/50\n",
            "19/19 [==============================] - 0s 26ms/step - loss: 0.0021\n",
            "Epoch 12/50\n",
            "19/19 [==============================] - 0s 25ms/step - loss: 0.0018\n",
            "Epoch 13/50\n",
            "19/19 [==============================] - 0s 26ms/step - loss: 0.0016\n",
            "Epoch 14/50\n",
            "19/19 [==============================] - 0s 26ms/step - loss: 0.0017\n",
            "Epoch 15/50\n",
            "19/19 [==============================] - 1s 26ms/step - loss: 0.0017\n",
            "Epoch 16/50\n",
            "19/19 [==============================] - 1s 27ms/step - loss: 0.0016\n",
            "Epoch 17/50\n",
            "19/19 [==============================] - 0s 26ms/step - loss: 0.0012\n",
            "Epoch 18/50\n",
            "19/19 [==============================] - 1s 28ms/step - loss: 0.0014\n",
            "Epoch 19/50\n",
            "19/19 [==============================] - 0s 26ms/step - loss: 0.0016\n",
            "Epoch 20/50\n",
            "19/19 [==============================] - 0s 26ms/step - loss: 0.0013\n",
            "Epoch 21/50\n",
            "19/19 [==============================] - 0s 26ms/step - loss: 0.0015\n",
            "Epoch 22/50\n",
            "19/19 [==============================] - 0s 25ms/step - loss: 0.0011\n",
            "Epoch 23/50\n",
            "19/19 [==============================] - 1s 26ms/step - loss: 0.0012\n",
            "Epoch 24/50\n",
            "19/19 [==============================] - 0s 25ms/step - loss: 0.0014\n",
            "Epoch 25/50\n",
            "19/19 [==============================] - 1s 26ms/step - loss: 0.0012\n",
            "Epoch 26/50\n",
            "19/19 [==============================] - 0s 26ms/step - loss: 0.0011\n",
            "Epoch 27/50\n",
            "19/19 [==============================] - 1s 27ms/step - loss: 0.0012\n",
            "Epoch 28/50\n",
            "19/19 [==============================] - 0s 25ms/step - loss: 0.0011\n",
            "Epoch 29/50\n",
            "19/19 [==============================] - 0s 26ms/step - loss: 0.0012\n",
            "Epoch 30/50\n",
            "19/19 [==============================] - 1s 26ms/step - loss: 0.0010\n",
            "Epoch 31/50\n",
            "19/19 [==============================] - 0s 26ms/step - loss: 9.8937e-04\n",
            "Epoch 32/50\n",
            "19/19 [==============================] - 1s 26ms/step - loss: 0.0010\n",
            "Epoch 33/50\n",
            "19/19 [==============================] - 0s 26ms/step - loss: 0.0010\n",
            "Epoch 34/50\n",
            "19/19 [==============================] - 0s 25ms/step - loss: 9.7943e-04\n",
            "Epoch 35/50\n",
            "19/19 [==============================] - 0s 25ms/step - loss: 9.8830e-04\n",
            "Epoch 36/50\n",
            "19/19 [==============================] - 0s 25ms/step - loss: 0.0011\n",
            "Epoch 37/50\n",
            "19/19 [==============================] - 0s 25ms/step - loss: 0.0010\n",
            "Epoch 38/50\n",
            "19/19 [==============================] - 1s 27ms/step - loss: 9.2355e-04\n",
            "Epoch 39/50\n",
            "19/19 [==============================] - 1s 27ms/step - loss: 0.0010\n",
            "Epoch 40/50\n",
            "19/19 [==============================] - 0s 26ms/step - loss: 9.5873e-04\n",
            "Epoch 41/50\n",
            "19/19 [==============================] - 1s 26ms/step - loss: 8.5565e-04\n",
            "Epoch 42/50\n",
            "19/19 [==============================] - 1s 26ms/step - loss: 0.0010\n",
            "Epoch 43/50\n",
            "19/19 [==============================] - 0s 26ms/step - loss: 8.6417e-04\n",
            "Epoch 44/50\n",
            "19/19 [==============================] - 1s 26ms/step - loss: 9.7968e-04\n",
            "Epoch 45/50\n",
            "19/19 [==============================] - 1s 27ms/step - loss: 8.9416e-04\n",
            "Epoch 46/50\n",
            "19/19 [==============================] - 1s 27ms/step - loss: 9.2738e-04\n",
            "Epoch 47/50\n",
            "19/19 [==============================] - 1s 26ms/step - loss: 9.2786e-04\n",
            "Epoch 48/50\n",
            "19/19 [==============================] - 0s 25ms/step - loss: 6.6168e-04\n",
            "Epoch 49/50\n",
            "19/19 [==============================] - 0s 25ms/step - loss: 9.9638e-04\n",
            "Epoch 50/50\n",
            "19/19 [==============================] - 0s 26ms/step - loss: 9.0894e-04\n"
          ],
          "name": "stdout"
        },
        {
          "output_type": "execute_result",
          "data": {
            "text/plain": [
              "<tensorflow.python.keras.callbacks.History at 0x7efc93b76650>"
            ]
          },
          "metadata": {
            "tags": []
          },
          "execution_count": 46
        }
      ]
    },
    {
      "cell_type": "code",
      "metadata": {
        "colab": {
          "base_uri": "https://localhost:8080/"
        },
        "id": "Vi5OFi6VqBTC",
        "outputId": "47bc6b76-5009-40c7-e962-89956b31d331"
      },
      "source": [
        "#Get test set ready as similar to traing set\n",
        "#create a whole dataset\n",
        "dataset_total = (dataset[\"High\"])\n",
        "dataset_total.shape"
      ],
      "execution_count": 47,
      "outputs": [
        {
          "output_type": "execute_result",
          "data": {
            "text/plain": [
              "(983,)"
            ]
          },
          "metadata": {
            "tags": []
          },
          "execution_count": 47
        }
      ]
    },
    {
      "cell_type": "code",
      "metadata": {
        "colab": {
          "base_uri": "https://localhost:8080/"
        },
        "id": "6TwO4qSNqCf4",
        "outputId": "2849b05d-19a2-4880-e2ba-27919e32cfd0"
      },
      "source": [
        "# Now to get the test set ready in a similar way as the training set.\n",
        "# The following has been done so forst 60 entires of test set have 60 previous values which is impossible to get unless we take the whole \n",
        "# 'High' attribute data for processing\n",
        "dataset_total = (dataset[\"High\"])\n",
        "inputs = dataset_total[len(dataset_total)-len(testData) - 60:].values\n",
        "inputs = np.log(inputs)\n",
        "inputs = inputs.reshape(-1,1)\n",
        "inputs = scaler.fit_transform(inputs)\n",
        "inputs[:5]\n"
      ],
      "execution_count": 48,
      "outputs": [
        {
          "output_type": "execute_result",
          "data": {
            "text/plain": [
              "array([[0.00263037],\n",
              "       [0.        ],\n",
              "       [0.00265301],\n",
              "       [0.026992  ],\n",
              "       [0.04427768]])"
            ]
          },
          "metadata": {
            "tags": []
          },
          "execution_count": 48
        }
      ]
    },
    {
      "cell_type": "code",
      "metadata": {
        "colab": {
          "base_uri": "https://localhost:8080/"
        },
        "id": "nW_cwHWm4cOl",
        "outputId": "3e2e9b78-871b-4a3d-b5f0-c290fd142926"
      },
      "source": [
        "inputs[:5]"
      ],
      "execution_count": 49,
      "outputs": [
        {
          "output_type": "execute_result",
          "data": {
            "text/plain": [
              "array([[0.00263037],\n",
              "       [0.        ],\n",
              "       [0.00265301],\n",
              "       [0.026992  ],\n",
              "       [0.04427768]])"
            ]
          },
          "metadata": {
            "tags": []
          },
          "execution_count": 49
        }
      ]
    },
    {
      "cell_type": "code",
      "metadata": {
        "colab": {
          "base_uri": "https://localhost:8080/"
        },
        "id": "w_0ScHo0sVyV",
        "outputId": "ca1fd55d-4969-4097-9f90-e089042c0e8a"
      },
      "source": [
        "inputs.shape"
      ],
      "execution_count": 50,
      "outputs": [
        {
          "output_type": "execute_result",
          "data": {
            "text/plain": [
              "(385, 1)"
            ]
          },
          "metadata": {
            "tags": []
          },
          "execution_count": 50
        }
      ]
    },
    {
      "cell_type": "code",
      "metadata": {
        "id": "GkDZJXbrqIQz"
      },
      "source": [
        "# Create xTest and yTest from testData(i.e. testing data)\n",
        "# 60 timestep and 1 output\n",
        "xTest = []\n",
        "\n",
        "for i in range(60, 385):\n",
        "    xTest.append(inputs[i-60 : i , 0])\n",
        "  \n",
        "\n",
        "xTest = np.array(xTest) \n",
        "xTest = np.reshape(xTest, (xTest.shape[0],xTest.shape[1],1))\n"
      ],
      "execution_count": 51,
      "outputs": []
    },
    {
      "cell_type": "code",
      "metadata": {
        "id": "Q1Gv-Tm2TizJ"
      },
      "source": [
        "# Predict model\n",
        "predicted_stock_price = model.predict(xTest)\n",
        "predicted_stock_price2 = scaler.inverse_transform(predicted_stock_price)"
      ],
      "execution_count": 52,
      "outputs": []
    },
    {
      "cell_type": "code",
      "metadata": {
        "colab": {
          "base_uri": "https://localhost:8080/"
        },
        "id": "DCcfUpJd0155",
        "outputId": "f3a60e85-e803-4935-9e51-21b9bd09afea"
      },
      "source": [
        "predicted_stock_price2[:5]"
      ],
      "execution_count": 53,
      "outputs": [
        {
          "output_type": "execute_result",
          "data": {
            "text/plain": [
              "array([[8.3442545],\n",
              "       [8.340862 ],\n",
              "       [8.356912 ],\n",
              "       [8.3642025],\n",
              "       [8.368757 ]], dtype=float32)"
            ]
          },
          "metadata": {
            "tags": []
          },
          "execution_count": 53
        }
      ]
    },
    {
      "cell_type": "code",
      "metadata": {
        "colab": {
          "base_uri": "https://localhost:8080/"
        },
        "id": "s2spzJBvBbqw",
        "outputId": "0a5dbc6c-8de8-45c4-ae40-cdba860dc05d"
      },
      "source": [
        "testData[:5]"
      ],
      "execution_count": 54,
      "outputs": [
        {
          "output_type": "execute_result",
          "data": {
            "text/plain": [
              "array([[8.33327517],\n",
              "       [8.34815663],\n",
              "       [8.35610144],\n",
              "       [8.36115677],\n",
              "       [8.37322347]])"
            ]
          },
          "metadata": {
            "tags": []
          },
          "execution_count": 54
        }
      ]
    },
    {
      "cell_type": "code",
      "metadata": {
        "colab": {
          "base_uri": "https://localhost:8080/",
          "height": 282
        },
        "id": "ikp3jkQmreAH",
        "outputId": "249ff7a7-d9f8-4055-ad58-29370601fb61"
      },
      "source": [
        "plt.plot(testData, color='red',label='Real BSESN Stock Price')\n",
        "plt.plot(predicted_stock_price2, color='blue',label='Predicted BSESN Stock Price')\n",
        "plt.xlabel = 'Time'\n",
        "plt.ylabel = 'BSESN Stock price'\n",
        "plt.legend()\n",
        "plt.show()"
      ],
      "execution_count": 88,
      "outputs": [
        {
          "output_type": "display_data",
          "data": {
            "image/png": "[encoded data removed]",
            "text/plain": [
              "<Figure size 432x288 with 1 Axes>"
            ]
          },
          "metadata": {
            "tags": []
          }
        }
      ]
    },
    {
      "cell_type": "code",
      "metadata": {
        "colab": {
          "base_uri": "https://localhost:8080/"
        },
        "id": "5yjlZP6rw9pz",
        "outputId": "8790112c-2d3f-4bc7-a15f-b96900cc0897"
      },
      "source": [
        "rmse = math.sqrt(mean_squared_error(testData, predicted_stock_price2))\n",
        "print(\"The root mean squared error is {}.\".format(rmse))"
      ],
      "execution_count": 56,
      "outputs": [
        {
          "output_type": "stream",
          "text": [
            "The root mean squared error is 0.013541360729379615.\n"
          ],
          "name": "stdout"
        }
      ]
    },
    {
      "cell_type": "markdown",
      "metadata": {
        "id": "crWmZL3TCS7o"
      },
      "source": [
        "Texual Analysis"
      ]
    },
    {
      "cell_type": "code",
      "metadata": {
        "colab": {
          "base_uri": "https://localhost:8080/"
        },
        "id": "MUu284GSei04",
        "outputId": "7cd66572-73fe-4bfd-c883-df38b98889e5"
      },
      "source": [
        "from google.colab import drive\n",
        "drive.mount(\"/content/gdrive\")"
      ],
      "execution_count": 57,
      "outputs": [
        {
          "output_type": "stream",
          "text": [
            "Mounted at /content/gdrive\n"
          ],
          "name": "stdout"
        }
      ]
    },
    {
      "cell_type": "code",
      "metadata": {
        "colab": {
          "base_uri": "https://localhost:8080/",
          "height": 407
        },
        "id": "r56TVPMR_QWm",
        "outputId": "7b5d7c80-9232-4475-9313-655da39521d9"
      },
      "source": [
        "cols = ['Date','Category','News']\n",
        "df_news = pd.read_csv('/content/gdrive/My Drive/india-news-headlines.csv.crdownload', names = cols)\n",
        "df_news"
      ],
      "execution_count": 58,
      "outputs": [
        {
          "output_type": "execute_result",
          "data": {
            "text/html": [
              "<div>\n",
              "<style scoped>\n",
              "    .dataframe tbody tr th:only-of-type {\n",
              "        vertical-align: middle;\n",
              "    }\n",
              "\n",
              "    .dataframe tbody tr th {\n",
              "        vertical-align: top;\n",
              "    }\n",
              "\n",
              "    .dataframe thead th {\n",
              "        text-align: right;\n",
              "    }\n",
              "</style>\n",
              "<table border=\"1\" class=\"dataframe\">\n",
              "  <thead>\n",
              "    <tr style=\"text-align: right;\">\n",
              "      <th></th>\n",
              "      <th>Date</th>\n",
              "      <th>Category</th>\n",
              "      <th>News</th>\n",
              "    </tr>\n",
              "  </thead>\n",
              "  <tbody>\n",
              "    <tr>\n",
              "      <th>0</th>\n",
              "      <td>publish_date</td>\n",
              "      <td>headline_category</td>\n",
              "      <td>headline_text</td>\n",
              "    </tr>\n",
              "    <tr>\n",
              "      <th>1</th>\n",
              "      <td>20010102</td>\n",
              "      <td>unknown</td>\n",
              "      <td>Status quo will not be disturbed at Ayodhya; s...</td>\n",
              "    </tr>\n",
              "    <tr>\n",
              "      <th>2</th>\n",
              "      <td>20010102</td>\n",
              "      <td>unknown</td>\n",
              "      <td>Fissures in Hurriyat over Pak visit</td>\n",
              "    </tr>\n",
              "    <tr>\n",
              "      <th>3</th>\n",
              "      <td>20010102</td>\n",
              "      <td>unknown</td>\n",
              "      <td>America's unwanted heading for India?</td>\n",
              "    </tr>\n",
              "    <tr>\n",
              "      <th>4</th>\n",
              "      <td>20010102</td>\n",
              "      <td>unknown</td>\n",
              "      <td>For bigwigs; it is destination Goa</td>\n",
              "    </tr>\n",
              "    <tr>\n",
              "      <th>...</th>\n",
              "      <td>...</td>\n",
              "      <td>...</td>\n",
              "      <td>...</td>\n",
              "    </tr>\n",
              "    <tr>\n",
              "      <th>1569822</th>\n",
              "      <td>20130225</td>\n",
              "      <td>rail-budget</td>\n",
              "      <td>Karnataka urges railway ministry to sanction 1...</td>\n",
              "    </tr>\n",
              "    <tr>\n",
              "      <th>1569823</th>\n",
              "      <td>20130225</td>\n",
              "      <td>entertainment.hindi.bollywood</td>\n",
              "      <td>Rohan Sippy to do cameo in 'Nautanki Saala'</td>\n",
              "    </tr>\n",
              "    <tr>\n",
              "      <th>1569824</th>\n",
              "      <td>20130225</td>\n",
              "      <td>entertainment.bhojpuri.movies.news</td>\n",
              "      <td>Rakhela Shaan Bhojpuriya Jawaan to release on ...</td>\n",
              "    </tr>\n",
              "    <tr>\n",
              "      <th>1569825</th>\n",
              "      <td>20130225</td>\n",
              "      <td>entertainment.hindi.bollywood</td>\n",
              "      <td>Jacqueline Fernandez doing item number with Pr...</td>\n",
              "    </tr>\n",
              "    <tr>\n",
              "      <th>1569826</th>\n",
              "      <td>20130225</td>\n",
              "      <td>life-style.health-fitness.heal</td>\n",
              "      <td>NaN</td>\n",
              "    </tr>\n",
              "  </tbody>\n",
              "</table>\n",
              "<p>1569827 rows × 3 columns</p>\n",
              "</div>"
            ],
            "text/plain": [
              "                 Date  ...                                               News\n",
              "0        publish_date  ...                                      headline_text\n",
              "1            20010102  ...  Status quo will not be disturbed at Ayodhya; s...\n",
              "2            20010102  ...                Fissures in Hurriyat over Pak visit\n",
              "3            20010102  ...              America's unwanted heading for India?\n",
              "4            20010102  ...                 For bigwigs; it is destination Goa\n",
              "...               ...  ...                                                ...\n",
              "1569822      20130225  ...  Karnataka urges railway ministry to sanction 1...\n",
              "1569823      20130225  ...        Rohan Sippy to do cameo in 'Nautanki Saala'\n",
              "1569824      20130225  ...  Rakhela Shaan Bhojpuriya Jawaan to release on ...\n",
              "1569825      20130225  ...  Jacqueline Fernandez doing item number with Pr...\n",
              "1569826      20130225  ...                                                NaN\n",
              "\n",
              "[1569827 rows x 3 columns]"
            ]
          },
          "metadata": {
            "tags": []
          },
          "execution_count": 58
        }
      ]
    },
    {
      "cell_type": "code",
      "metadata": {
        "colab": {
          "base_uri": "https://localhost:8080/"
        },
        "id": "2YIeKjs8h-NN",
        "outputId": "2e0e02cd-aab5-4a4e-f06d-6475befe4339"
      },
      "source": [
        "df_news.drop(0, inplace=True)\n",
        "df_news.drop('Category', axis = 1, inplace=True)\n",
        "df_news.info()"
      ],
      "execution_count": 59,
      "outputs": [
        {
          "output_type": "stream",
          "text": [
            "<class 'pandas.core.frame.DataFrame'>\n",
            "Int64Index: 1569826 entries, 1 to 1569826\n",
            "Data columns (total 2 columns):\n",
            " #   Column  Non-Null Count    Dtype \n",
            "---  ------  --------------    ----- \n",
            " 0   Date    1569826 non-null  object\n",
            " 1   News    1569825 non-null  object\n",
            "dtypes: object(2)\n",
            "memory usage: 35.9+ MB\n"
          ],
          "name": "stdout"
        }
      ]
    },
    {
      "cell_type": "code",
      "metadata": {
        "colab": {
          "base_uri": "https://localhost:8080/",
          "height": 198
        },
        "id": "YSqo4-Uju6wi",
        "outputId": "fd7d9c13-f58c-4c06-b510-c5a6b849b2a1"
      },
      "source": [
        "df_news.head()"
      ],
      "execution_count": 60,
      "outputs": [
        {
          "output_type": "execute_result",
          "data": {
            "text/html": [
              "<div>\n",
              "<style scoped>\n",
              "    .dataframe tbody tr th:only-of-type {\n",
              "        vertical-align: middle;\n",
              "    }\n",
              "\n",
              "    .dataframe tbody tr th {\n",
              "        vertical-align: top;\n",
              "    }\n",
              "\n",
              "    .dataframe thead th {\n",
              "        text-align: right;\n",
              "    }\n",
              "</style>\n",
              "<table border=\"1\" class=\"dataframe\">\n",
              "  <thead>\n",
              "    <tr style=\"text-align: right;\">\n",
              "      <th></th>\n",
              "      <th>Date</th>\n",
              "      <th>News</th>\n",
              "    </tr>\n",
              "  </thead>\n",
              "  <tbody>\n",
              "    <tr>\n",
              "      <th>1</th>\n",
              "      <td>20010102</td>\n",
              "      <td>Status quo will not be disturbed at Ayodhya; s...</td>\n",
              "    </tr>\n",
              "    <tr>\n",
              "      <th>2</th>\n",
              "      <td>20010102</td>\n",
              "      <td>Fissures in Hurriyat over Pak visit</td>\n",
              "    </tr>\n",
              "    <tr>\n",
              "      <th>3</th>\n",
              "      <td>20010102</td>\n",
              "      <td>America's unwanted heading for India?</td>\n",
              "    </tr>\n",
              "    <tr>\n",
              "      <th>4</th>\n",
              "      <td>20010102</td>\n",
              "      <td>For bigwigs; it is destination Goa</td>\n",
              "    </tr>\n",
              "    <tr>\n",
              "      <th>5</th>\n",
              "      <td>20010102</td>\n",
              "      <td>Extra buses to clear tourist traffic</td>\n",
              "    </tr>\n",
              "  </tbody>\n",
              "</table>\n",
              "</div>"
            ],
            "text/plain": [
              "       Date                                               News\n",
              "1  20010102  Status quo will not be disturbed at Ayodhya; s...\n",
              "2  20010102                Fissures in Hurriyat over Pak visit\n",
              "3  20010102              America's unwanted heading for India?\n",
              "4  20010102                 For bigwigs; it is destination Goa\n",
              "5  20010102               Extra buses to clear tourist traffic"
            ]
          },
          "metadata": {
            "tags": []
          },
          "execution_count": 60
        }
      ]
    },
    {
      "cell_type": "code",
      "metadata": {
        "colab": {
          "base_uri": "https://localhost:8080/",
          "height": 198
        },
        "id": "5CZohKDmiBPM",
        "outputId": "c91286e6-8a6e-43be-a018-c375ada9aeea"
      },
      "source": [
        "#Converting data type of Date column \n",
        "df_news['Date'] = pd.to_datetime(df_news['Date'],format= '%Y%m%d')\n",
        "df_news.head()"
      ],
      "execution_count": 61,
      "outputs": [
        {
          "output_type": "execute_result",
          "data": {
            "text/html": [
              "<div>\n",
              "<style scoped>\n",
              "    .dataframe tbody tr th:only-of-type {\n",
              "        vertical-align: middle;\n",
              "    }\n",
              "\n",
              "    .dataframe tbody tr th {\n",
              "        vertical-align: top;\n",
              "    }\n",
              "\n",
              "    .dataframe thead th {\n",
              "        text-align: right;\n",
              "    }\n",
              "</style>\n",
              "<table border=\"1\" class=\"dataframe\">\n",
              "  <thead>\n",
              "    <tr style=\"text-align: right;\">\n",
              "      <th></th>\n",
              "      <th>Date</th>\n",
              "      <th>News</th>\n",
              "    </tr>\n",
              "  </thead>\n",
              "  <tbody>\n",
              "    <tr>\n",
              "      <th>1</th>\n",
              "      <td>2001-01-02</td>\n",
              "      <td>Status quo will not be disturbed at Ayodhya; s...</td>\n",
              "    </tr>\n",
              "    <tr>\n",
              "      <th>2</th>\n",
              "      <td>2001-01-02</td>\n",
              "      <td>Fissures in Hurriyat over Pak visit</td>\n",
              "    </tr>\n",
              "    <tr>\n",
              "      <th>3</th>\n",
              "      <td>2001-01-02</td>\n",
              "      <td>America's unwanted heading for India?</td>\n",
              "    </tr>\n",
              "    <tr>\n",
              "      <th>4</th>\n",
              "      <td>2001-01-02</td>\n",
              "      <td>For bigwigs; it is destination Goa</td>\n",
              "    </tr>\n",
              "    <tr>\n",
              "      <th>5</th>\n",
              "      <td>2001-01-02</td>\n",
              "      <td>Extra buses to clear tourist traffic</td>\n",
              "    </tr>\n",
              "  </tbody>\n",
              "</table>\n",
              "</div>"
            ],
            "text/plain": [
              "        Date                                               News\n",
              "1 2001-01-02  Status quo will not be disturbed at Ayodhya; s...\n",
              "2 2001-01-02                Fissures in Hurriyat over Pak visit\n",
              "3 2001-01-02              America's unwanted heading for India?\n",
              "4 2001-01-02                 For bigwigs; it is destination Goa\n",
              "5 2001-01-02               Extra buses to clear tourist traffic"
            ]
          },
          "metadata": {
            "tags": []
          },
          "execution_count": 61
        }
      ]
    },
    {
      "cell_type": "code",
      "metadata": {
        "id": "zo4xbvWvyrkZ"
      },
      "source": [
        "#check nan value\n",
        "df_news['News'].isnull().values.any()\n",
        "df_news['News'].fillna('Hello', inplace=True)"
      ],
      "execution_count": 62,
      "outputs": []
    },
    {
      "cell_type": "code",
      "metadata": {
        "colab": {
          "base_uri": "https://localhost:8080/",
          "height": 407
        },
        "id": "P9VWr07GiGiU",
        "outputId": "ca7110fc-2b07-466b-e19e-c9a365fba512"
      },
      "source": [
        "#Grouping the headlines for each day\n",
        "df_news['News'] = df_news.groupby(['Date']).transform(lambda x : ' '.join(x)) \n",
        "df_news = df_news.drop_duplicates() \n",
        "df_news.reset_index(inplace = True, drop = True)\n",
        "df_news"
      ],
      "execution_count": 63,
      "outputs": [
        {
          "output_type": "execute_result",
          "data": {
            "text/html": [
              "<div>\n",
              "<style scoped>\n",
              "    .dataframe tbody tr th:only-of-type {\n",
              "        vertical-align: middle;\n",
              "    }\n",
              "\n",
              "    .dataframe tbody tr th {\n",
              "        vertical-align: top;\n",
              "    }\n",
              "\n",
              "    .dataframe thead th {\n",
              "        text-align: right;\n",
              "    }\n",
              "</style>\n",
              "<table border=\"1\" class=\"dataframe\">\n",
              "  <thead>\n",
              "    <tr style=\"text-align: right;\">\n",
              "      <th></th>\n",
              "      <th>Date</th>\n",
              "      <th>News</th>\n",
              "    </tr>\n",
              "  </thead>\n",
              "  <tbody>\n",
              "    <tr>\n",
              "      <th>0</th>\n",
              "      <td>2001-01-02</td>\n",
              "      <td>Status quo will not be disturbed at Ayodhya; s...</td>\n",
              "    </tr>\n",
              "    <tr>\n",
              "      <th>1</th>\n",
              "      <td>2001-01-03</td>\n",
              "      <td>Powerless north India gropes in the dark Think...</td>\n",
              "    </tr>\n",
              "    <tr>\n",
              "      <th>2</th>\n",
              "      <td>2001-01-04</td>\n",
              "      <td>The string that pulled Stephen Hawking to Indi...</td>\n",
              "    </tr>\n",
              "    <tr>\n",
              "      <th>3</th>\n",
              "      <td>2001-01-05</td>\n",
              "      <td>Light combat craft takes India into club class...</td>\n",
              "    </tr>\n",
              "    <tr>\n",
              "      <th>4</th>\n",
              "      <td>2001-01-06</td>\n",
              "      <td>Light combat craft takes India into club class...</td>\n",
              "    </tr>\n",
              "    <tr>\n",
              "      <th>...</th>\n",
              "      <td>...</td>\n",
              "      <td>...</td>\n",
              "    </tr>\n",
              "    <tr>\n",
              "      <th>4391</th>\n",
              "      <td>2013-02-21</td>\n",
              "      <td>Fellow Satsangis help you to evolve Most of Rs...</td>\n",
              "    </tr>\n",
              "    <tr>\n",
              "      <th>4392</th>\n",
              "      <td>2013-02-22</td>\n",
              "      <td>Arun Jaitley cell tap probe: Businessman's cal...</td>\n",
              "    </tr>\n",
              "    <tr>\n",
              "      <th>4393</th>\n",
              "      <td>2013-02-23</td>\n",
              "      <td>Pics: Celebs spotted in see-through outfits Tr...</td>\n",
              "    </tr>\n",
              "    <tr>\n",
              "      <th>4394</th>\n",
              "      <td>2013-02-24</td>\n",
              "      <td>New Gurgaon emerging as a lifestyle destinatio...</td>\n",
              "    </tr>\n",
              "    <tr>\n",
              "      <th>4395</th>\n",
              "      <td>2013-02-25</td>\n",
              "      <td>Missed opportunity for aspiring athletes Organ...</td>\n",
              "    </tr>\n",
              "  </tbody>\n",
              "</table>\n",
              "<p>4396 rows × 2 columns</p>\n",
              "</div>"
            ],
            "text/plain": [
              "           Date                                               News\n",
              "0    2001-01-02  Status quo will not be disturbed at Ayodhya; s...\n",
              "1    2001-01-03  Powerless north India gropes in the dark Think...\n",
              "2    2001-01-04  The string that pulled Stephen Hawking to Indi...\n",
              "3    2001-01-05  Light combat craft takes India into club class...\n",
              "4    2001-01-06  Light combat craft takes India into club class...\n",
              "...         ...                                                ...\n",
              "4391 2013-02-21  Fellow Satsangis help you to evolve Most of Rs...\n",
              "4392 2013-02-22  Arun Jaitley cell tap probe: Businessman's cal...\n",
              "4393 2013-02-23  Pics: Celebs spotted in see-through outfits Tr...\n",
              "4394 2013-02-24  New Gurgaon emerging as a lifestyle destinatio...\n",
              "4395 2013-02-25  Missed opportunity for aspiring athletes Organ...\n",
              "\n",
              "[4396 rows x 2 columns]"
            ]
          },
          "metadata": {
            "tags": []
          },
          "execution_count": 63
        }
      ]
    },
    {
      "cell_type": "code",
      "metadata": {
        "colab": {
          "base_uri": "https://localhost:8080/"
        },
        "id": "-kbmQTeziKol",
        "outputId": "149aa111-ba09-4858-fcd0-8f84c0d0b68c"
      },
      "source": [
        "df_news['News']"
      ],
      "execution_count": 64,
      "outputs": [
        {
          "output_type": "execute_result",
          "data": {
            "text/plain": [
              "0       Status quo will not be disturbed at Ayodhya; s...\n",
              "1       Powerless north India gropes in the dark Think...\n",
              "2       The string that pulled Stephen Hawking to Indi...\n",
              "3       Light combat craft takes India into club class...\n",
              "4       Light combat craft takes India into club class...\n",
              "                              ...                        \n",
              "4391    Fellow Satsangis help you to evolve Most of Rs...\n",
              "4392    Arun Jaitley cell tap probe: Businessman's cal...\n",
              "4393    Pics: Celebs spotted in see-through outfits Tr...\n",
              "4394    New Gurgaon emerging as a lifestyle destinatio...\n",
              "4395    Missed opportunity for aspiring athletes Organ...\n",
              "Name: News, Length: 4396, dtype: object"
            ]
          },
          "metadata": {
            "tags": []
          },
          "execution_count": 64
        }
      ]
    },
    {
      "cell_type": "code",
      "metadata": {
        "colab": {
          "base_uri": "https://localhost:8080/",
          "height": 198
        },
        "id": "c32l34PzAQxA",
        "outputId": "095dd8d8-cf22-4560-f360-ffb731a273ac"
      },
      "source": [
        "df_news.drop(df_news.loc[1400:].index, inplace=True)\n",
        "df_news.tail()"
      ],
      "execution_count": 65,
      "outputs": [
        {
          "output_type": "execute_result",
          "data": {
            "text/html": [
              "<div>\n",
              "<style scoped>\n",
              "    .dataframe tbody tr th:only-of-type {\n",
              "        vertical-align: middle;\n",
              "    }\n",
              "\n",
              "    .dataframe tbody tr th {\n",
              "        vertical-align: top;\n",
              "    }\n",
              "\n",
              "    .dataframe thead th {\n",
              "        text-align: right;\n",
              "    }\n",
              "</style>\n",
              "<table border=\"1\" class=\"dataframe\">\n",
              "  <thead>\n",
              "    <tr style=\"text-align: right;\">\n",
              "      <th></th>\n",
              "      <th>Date</th>\n",
              "      <th>News</th>\n",
              "    </tr>\n",
              "  </thead>\n",
              "  <tbody>\n",
              "    <tr>\n",
              "      <th>1395</th>\n",
              "      <td>2004-12-09</td>\n",
              "      <td>Madras HC refuses to grant bail to Kanchi seer...</td>\n",
              "    </tr>\n",
              "    <tr>\n",
              "      <th>1396</th>\n",
              "      <td>2004-12-10</td>\n",
              "      <td>Politicians most corrupt; say Indians Brute fo...</td>\n",
              "    </tr>\n",
              "    <tr>\n",
              "      <th>1397</th>\n",
              "      <td>2004-12-11</td>\n",
              "      <td>Keep channels open; Trai tells broadcasters US...</td>\n",
              "    </tr>\n",
              "    <tr>\n",
              "      <th>1398</th>\n",
              "      <td>2004-12-12</td>\n",
              "      <td>Stripped; tonsured; flogged... all for love Bo...</td>\n",
              "    </tr>\n",
              "    <tr>\n",
              "      <th>1399</th>\n",
              "      <td>2004-12-13</td>\n",
              "      <td>Big-B lends voice to magic of Tagore AHA on an...</td>\n",
              "    </tr>\n",
              "  </tbody>\n",
              "</table>\n",
              "</div>"
            ],
            "text/plain": [
              "           Date                                               News\n",
              "1395 2004-12-09  Madras HC refuses to grant bail to Kanchi seer...\n",
              "1396 2004-12-10  Politicians most corrupt; say Indians Brute fo...\n",
              "1397 2004-12-11  Keep channels open; Trai tells broadcasters US...\n",
              "1398 2004-12-12  Stripped; tonsured; flogged... all for love Bo...\n",
              "1399 2004-12-13  Big-B lends voice to magic of Tagore AHA on an..."
            ]
          },
          "metadata": {
            "tags": []
          },
          "execution_count": 65
        }
      ]
    },
    {
      "cell_type": "code",
      "metadata": {
        "id": "NYYJ4ZlG0KD4"
      },
      "source": [
        "ps = PorterStemmer()"
      ],
      "execution_count": 66,
      "outputs": []
    },
    {
      "cell_type": "code",
      "metadata": {
        "colab": {
          "base_uri": "https://localhost:8080/"
        },
        "id": "kFKBed6Qzp8y",
        "outputId": "33532764-5d49-45fa-a410-4cabc7d29919"
      },
      "source": [
        "#Cleaning headlines\n",
        "c = []\n",
        "for i in range(0,len(df_news['News'])):\n",
        "    news = re.sub('[^a-zA-Z]',' ',df_news['News'][i])\n",
        "    news = news.lower()\n",
        "    news = news.split()\n",
        "    news = [ps.stem(word) for word in news if not word in set(stopwords.words('english'))]\n",
        "    news=' '.join(news)\n",
        "    c.append(news)\n",
        "print(\"Finish\")"
      ],
      "execution_count": 67,
      "outputs": [
        {
          "output_type": "stream",
          "text": [
            "Finish\n"
          ],
          "name": "stdout"
        }
      ]
    },
    {
      "cell_type": "code",
      "metadata": {
        "id": "D9HYFo_Nzqdv",
        "colab": {
          "base_uri": "https://localhost:8080/",
          "height": 407
        },
        "outputId": "8efdf0c6-8e22-4cda-c0e6-5c92aaae64a2"
      },
      "source": [
        "df_news['News'] = pd.Series(c)\n",
        "df_news"
      ],
      "execution_count": 68,
      "outputs": [
        {
          "output_type": "execute_result",
          "data": {
            "text/html": [
              "<div>\n",
              "<style scoped>\n",
              "    .dataframe tbody tr th:only-of-type {\n",
              "        vertical-align: middle;\n",
              "    }\n",
              "\n",
              "    .dataframe tbody tr th {\n",
              "        vertical-align: top;\n",
              "    }\n",
              "\n",
              "    .dataframe thead th {\n",
              "        text-align: right;\n",
              "    }\n",
              "</style>\n",
              "<table border=\"1\" class=\"dataframe\">\n",
              "  <thead>\n",
              "    <tr style=\"text-align: right;\">\n",
              "      <th></th>\n",
              "      <th>Date</th>\n",
              "      <th>News</th>\n",
              "    </tr>\n",
              "  </thead>\n",
              "  <tbody>\n",
              "    <tr>\n",
              "      <th>0</th>\n",
              "      <td>2001-01-02</td>\n",
              "      <td>statu quo disturb ayodhya say vajpaye fissur h...</td>\n",
              "    </tr>\n",
              "    <tr>\n",
              "      <th>1</th>\n",
              "      <td>2001-01-03</td>\n",
              "      <td>powerless north india grope dark think laxman ...</td>\n",
              "    </tr>\n",
              "    <tr>\n",
              "      <th>2</th>\n",
              "      <td>2001-01-04</td>\n",
              "      <td>string pull stephen hawk india vajpaye give bi...</td>\n",
              "    </tr>\n",
              "    <tr>\n",
              "      <th>3</th>\n",
              "      <td>2001-01-05</td>\n",
              "      <td>light combat craft take india club class hawk ...</td>\n",
              "    </tr>\n",
              "    <tr>\n",
              "      <th>4</th>\n",
              "      <td>2001-01-06</td>\n",
              "      <td>light combat craft take india club class hawk ...</td>\n",
              "    </tr>\n",
              "    <tr>\n",
              "      <th>...</th>\n",
              "      <td>...</td>\n",
              "      <td>...</td>\n",
              "    </tr>\n",
              "    <tr>\n",
              "      <th>1395</th>\n",
              "      <td>2004-12-09</td>\n",
              "      <td>madra hc refus grant bail kanchi seer india ho...</td>\n",
              "    </tr>\n",
              "    <tr>\n",
              "      <th>1396</th>\n",
              "      <td>2004-12-10</td>\n",
              "      <td>politician corrupt say indian brute forc engli...</td>\n",
              "    </tr>\n",
              "    <tr>\n",
              "      <th>1397</th>\n",
              "      <td>2004-12-11</td>\n",
              "      <td>keep channel open trai tell broadcast us waiv ...</td>\n",
              "    </tr>\n",
              "    <tr>\n",
              "      <th>1398</th>\n",
              "      <td>2004-12-12</td>\n",
              "      <td>strip tonsur flog love bomb blast srk show kil...</td>\n",
              "    </tr>\n",
              "    <tr>\n",
              "      <th>1399</th>\n",
              "      <td>2004-12-13</td>\n",
              "      <td>big b lend voic magic tagor aha educ mission s...</td>\n",
              "    </tr>\n",
              "  </tbody>\n",
              "</table>\n",
              "<p>1400 rows × 2 columns</p>\n",
              "</div>"
            ],
            "text/plain": [
              "           Date                                               News\n",
              "0    2001-01-02  statu quo disturb ayodhya say vajpaye fissur h...\n",
              "1    2001-01-03  powerless north india grope dark think laxman ...\n",
              "2    2001-01-04  string pull stephen hawk india vajpaye give bi...\n",
              "3    2001-01-05  light combat craft take india club class hawk ...\n",
              "4    2001-01-06  light combat craft take india club class hawk ...\n",
              "...         ...                                                ...\n",
              "1395 2004-12-09  madra hc refus grant bail kanchi seer india ho...\n",
              "1396 2004-12-10  politician corrupt say indian brute forc engli...\n",
              "1397 2004-12-11  keep channel open trai tell broadcast us waiv ...\n",
              "1398 2004-12-12  strip tonsur flog love bomb blast srk show kil...\n",
              "1399 2004-12-13  big b lend voic magic tagor aha educ mission s...\n",
              "\n",
              "[1400 rows x 2 columns]"
            ]
          },
          "metadata": {
            "tags": []
          },
          "execution_count": 68
        }
      ]
    },
    {
      "cell_type": "code",
      "metadata": {
        "id": "o4e2fqNp0SRI"
      },
      "source": [
        "#Functions to get the subjectivity and polarity\n",
        "def getSubjectivity(text):\n",
        "  return TextBlob(text).sentiment.subjectivity\n",
        "\n",
        "def getPolarity(text):\n",
        "  return  TextBlob(text).sentiment.polarity"
      ],
      "execution_count": 69,
      "outputs": []
    },
    {
      "cell_type": "code",
      "metadata": {
        "colab": {
          "base_uri": "https://localhost:8080/",
          "height": 407
        },
        "id": "U6qzNGd08oS0",
        "outputId": "9cd14de7-3793-4fd5-bcfc-ac67eadb228d"
      },
      "source": [
        "#Adding subjectivity and polarity columns\n",
        "df_news['Subjectivity'] = df_news['News'].apply(getSubjectivity)\n",
        "df_news['Polarity'] = df_news['News'].apply(getPolarity)\n",
        "df_news"
      ],
      "execution_count": 70,
      "outputs": [
        {
          "output_type": "execute_result",
          "data": {
            "text/html": [
              "<div>\n",
              "<style scoped>\n",
              "    .dataframe tbody tr th:only-of-type {\n",
              "        vertical-align: middle;\n",
              "    }\n",
              "\n",
              "    .dataframe tbody tr th {\n",
              "        vertical-align: top;\n",
              "    }\n",
              "\n",
              "    .dataframe thead th {\n",
              "        text-align: right;\n",
              "    }\n",
              "</style>\n",
              "<table border=\"1\" class=\"dataframe\">\n",
              "  <thead>\n",
              "    <tr style=\"text-align: right;\">\n",
              "      <th></th>\n",
              "      <th>Date</th>\n",
              "      <th>News</th>\n",
              "      <th>Subjectivity</th>\n",
              "      <th>Polarity</th>\n",
              "    </tr>\n",
              "  </thead>\n",
              "  <tbody>\n",
              "    <tr>\n",
              "      <th>0</th>\n",
              "      <td>2001-01-02</td>\n",
              "      <td>statu quo disturb ayodhya say vajpaye fissur h...</td>\n",
              "      <td>0.298148</td>\n",
              "      <td>0.099074</td>\n",
              "    </tr>\n",
              "    <tr>\n",
              "      <th>1</th>\n",
              "      <td>2001-01-03</td>\n",
              "      <td>powerless north india grope dark think laxman ...</td>\n",
              "      <td>0.429167</td>\n",
              "      <td>0.025000</td>\n",
              "    </tr>\n",
              "    <tr>\n",
              "      <th>2</th>\n",
              "      <td>2001-01-04</td>\n",
              "      <td>string pull stephen hawk india vajpaye give bi...</td>\n",
              "      <td>0.475140</td>\n",
              "      <td>0.032481</td>\n",
              "    </tr>\n",
              "    <tr>\n",
              "      <th>3</th>\n",
              "      <td>2001-01-05</td>\n",
              "      <td>light combat craft take india club class hawk ...</td>\n",
              "      <td>0.458412</td>\n",
              "      <td>0.296404</td>\n",
              "    </tr>\n",
              "    <tr>\n",
              "      <th>4</th>\n",
              "      <td>2001-01-06</td>\n",
              "      <td>light combat craft take india club class hawk ...</td>\n",
              "      <td>0.425758</td>\n",
              "      <td>0.389394</td>\n",
              "    </tr>\n",
              "    <tr>\n",
              "      <th>...</th>\n",
              "      <td>...</td>\n",
              "      <td>...</td>\n",
              "      <td>...</td>\n",
              "      <td>...</td>\n",
              "    </tr>\n",
              "    <tr>\n",
              "      <th>1395</th>\n",
              "      <td>2004-12-09</td>\n",
              "      <td>madra hc refus grant bail kanchi seer india ho...</td>\n",
              "      <td>0.483466</td>\n",
              "      <td>0.044768</td>\n",
              "    </tr>\n",
              "    <tr>\n",
              "      <th>1396</th>\n",
              "      <td>2004-12-10</td>\n",
              "      <td>politician corrupt say indian brute forc engli...</td>\n",
              "      <td>0.323097</td>\n",
              "      <td>0.124429</td>\n",
              "    </tr>\n",
              "    <tr>\n",
              "      <th>1397</th>\n",
              "      <td>2004-12-11</td>\n",
              "      <td>keep channel open trai tell broadcast us waiv ...</td>\n",
              "      <td>0.368564</td>\n",
              "      <td>0.091771</td>\n",
              "    </tr>\n",
              "    <tr>\n",
              "      <th>1398</th>\n",
              "      <td>2004-12-12</td>\n",
              "      <td>strip tonsur flog love bomb blast srk show kil...</td>\n",
              "      <td>0.403276</td>\n",
              "      <td>0.106394</td>\n",
              "    </tr>\n",
              "    <tr>\n",
              "      <th>1399</th>\n",
              "      <td>2004-12-13</td>\n",
              "      <td>big b lend voic magic tagor aha educ mission s...</td>\n",
              "      <td>0.415468</td>\n",
              "      <td>0.157767</td>\n",
              "    </tr>\n",
              "  </tbody>\n",
              "</table>\n",
              "<p>1400 rows × 4 columns</p>\n",
              "</div>"
            ],
            "text/plain": [
              "           Date  ...  Polarity\n",
              "0    2001-01-02  ...  0.099074\n",
              "1    2001-01-03  ...  0.025000\n",
              "2    2001-01-04  ...  0.032481\n",
              "3    2001-01-05  ...  0.296404\n",
              "4    2001-01-06  ...  0.389394\n",
              "...         ...  ...       ...\n",
              "1395 2004-12-09  ...  0.044768\n",
              "1396 2004-12-10  ...  0.124429\n",
              "1397 2004-12-11  ...  0.091771\n",
              "1398 2004-12-12  ...  0.106394\n",
              "1399 2004-12-13  ...  0.157767\n",
              "\n",
              "[1400 rows x 4 columns]"
            ]
          },
          "metadata": {
            "tags": []
          },
          "execution_count": 70
        }
      ]
    },
    {
      "cell_type": "code",
      "metadata": {
        "colab": {
          "base_uri": "https://localhost:8080/",
          "height": 415
        },
        "id": "HutmplWBD47x",
        "outputId": "196875d8-d3cf-4788-95f5-3c953cb52551"
      },
      "source": [
        "plt.figure(figsize = (10,6))\n",
        "df_news['Polarity'].hist(color = 'purple')"
      ],
      "execution_count": 71,
      "outputs": [
        {
          "output_type": "execute_result",
          "data": {
            "text/plain": [
              "<matplotlib.axes._subplots.AxesSubplot at 0x7efc9794a210>"
            ]
          },
          "metadata": {
            "tags": []
          },
          "execution_count": 71
        },
        {
          "output_type": "display_data",
          "data": {
            "image/png": "[encoded data removed]",
            "text/plain": [
              "<Figure size 720x432 with 1 Axes>"
            ]
          },
          "metadata": {
            "tags": []
          }
        }
      ]
    },
    {
      "cell_type": "code",
      "metadata": {
        "colab": {
          "base_uri": "https://localhost:8080/",
          "height": 415
        },
        "id": "mOSmeER5D6o2",
        "outputId": "b5a50a60-2673-48f1-ba94-eb0eb702e1b0"
      },
      "source": [
        "\n",
        "plt.figure(figsize = (10,6))\n",
        "df_news['Subjectivity'].hist(color = 'blue')"
      ],
      "execution_count": 72,
      "outputs": [
        {
          "output_type": "execute_result",
          "data": {
            "text/plain": [
              "<matplotlib.axes._subplots.AxesSubplot at 0x7efc84f26290>"
            ]
          },
          "metadata": {
            "tags": []
          },
          "execution_count": 72
        },
        {
          "output_type": "display_data",
          "data": {
            "image/png": "[encoded data removed]",
            "text/plain": [
              "<Figure size 720x432 with 1 Axes>"
            ]
          },
          "metadata": {
            "tags": []
          }
        }
      ]
    },
    {
      "cell_type": "code",
      "metadata": {
        "colab": {
          "base_uri": "https://localhost:8080/",
          "height": 407
        },
        "id": "BV_ENVWvEEa8",
        "outputId": "efac6695-fc2a-449f-daae-1908324f24fc"
      },
      "source": [
        "#Adding sentiment score to df_news\n",
        "sia = SentimentIntensityAnalyzer()\n",
        "\n",
        "df_news['Compound'] = [sia.polarity_scores(v)['compound'] for v in df_news['News']]\n",
        "df_news['Negative'] = [sia.polarity_scores(v)['neg'] for v in df_news['News']]\n",
        "df_news['Neutral'] = [sia.polarity_scores(v)['neu'] for v in df_news['News']]\n",
        "df_news['Positive'] = [sia.polarity_scores(v)['pos'] for v in df_news['News']]\n",
        "df_news"
      ],
      "execution_count": 73,
      "outputs": [
        {
          "output_type": "execute_result",
          "data": {
            "text/html": [
              "<div>\n",
              "<style scoped>\n",
              "    .dataframe tbody tr th:only-of-type {\n",
              "        vertical-align: middle;\n",
              "    }\n",
              "\n",
              "    .dataframe tbody tr th {\n",
              "        vertical-align: top;\n",
              "    }\n",
              "\n",
              "    .dataframe thead th {\n",
              "        text-align: right;\n",
              "    }\n",
              "</style>\n",
              "<table border=\"1\" class=\"dataframe\">\n",
              "  <thead>\n",
              "    <tr style=\"text-align: right;\">\n",
              "      <th></th>\n",
              "      <th>Date</th>\n",
              "      <th>News</th>\n",
              "      <th>Subjectivity</th>\n",
              "      <th>Polarity</th>\n",
              "      <th>Compound</th>\n",
              "      <th>Negative</th>\n",
              "      <th>Neutral</th>\n",
              "      <th>Positive</th>\n",
              "    </tr>\n",
              "  </thead>\n",
              "  <tbody>\n",
              "    <tr>\n",
              "      <th>0</th>\n",
              "      <td>2001-01-02</td>\n",
              "      <td>statu quo disturb ayodhya say vajpaye fissur h...</td>\n",
              "      <td>0.298148</td>\n",
              "      <td>0.099074</td>\n",
              "      <td>-0.8555</td>\n",
              "      <td>0.125</td>\n",
              "      <td>0.773</td>\n",
              "      <td>0.102</td>\n",
              "    </tr>\n",
              "    <tr>\n",
              "      <th>1</th>\n",
              "      <td>2001-01-03</td>\n",
              "      <td>powerless north india grope dark think laxman ...</td>\n",
              "      <td>0.429167</td>\n",
              "      <td>0.025000</td>\n",
              "      <td>-0.5994</td>\n",
              "      <td>0.132</td>\n",
              "      <td>0.755</td>\n",
              "      <td>0.113</td>\n",
              "    </tr>\n",
              "    <tr>\n",
              "      <th>2</th>\n",
              "      <td>2001-01-04</td>\n",
              "      <td>string pull stephen hawk india vajpaye give bi...</td>\n",
              "      <td>0.475140</td>\n",
              "      <td>0.032481</td>\n",
              "      <td>0.9169</td>\n",
              "      <td>0.099</td>\n",
              "      <td>0.791</td>\n",
              "      <td>0.110</td>\n",
              "    </tr>\n",
              "    <tr>\n",
              "      <th>3</th>\n",
              "      <td>2001-01-05</td>\n",
              "      <td>light combat craft take india club class hawk ...</td>\n",
              "      <td>0.458412</td>\n",
              "      <td>0.296404</td>\n",
              "      <td>-0.3612</td>\n",
              "      <td>0.171</td>\n",
              "      <td>0.659</td>\n",
              "      <td>0.170</td>\n",
              "    </tr>\n",
              "    <tr>\n",
              "      <th>4</th>\n",
              "      <td>2001-01-06</td>\n",
              "      <td>light combat craft take india club class hawk ...</td>\n",
              "      <td>0.425758</td>\n",
              "      <td>0.389394</td>\n",
              "      <td>-0.7579</td>\n",
              "      <td>0.207</td>\n",
              "      <td>0.649</td>\n",
              "      <td>0.144</td>\n",
              "    </tr>\n",
              "    <tr>\n",
              "      <th>...</th>\n",
              "      <td>...</td>\n",
              "      <td>...</td>\n",
              "      <td>...</td>\n",
              "      <td>...</td>\n",
              "      <td>...</td>\n",
              "      <td>...</td>\n",
              "      <td>...</td>\n",
              "      <td>...</td>\n",
              "    </tr>\n",
              "    <tr>\n",
              "      <th>1395</th>\n",
              "      <td>2004-12-09</td>\n",
              "      <td>madra hc refus grant bail kanchi seer india ho...</td>\n",
              "      <td>0.483466</td>\n",
              "      <td>0.044768</td>\n",
              "      <td>-0.9565</td>\n",
              "      <td>0.136</td>\n",
              "      <td>0.756</td>\n",
              "      <td>0.109</td>\n",
              "    </tr>\n",
              "    <tr>\n",
              "      <th>1396</th>\n",
              "      <td>2004-12-10</td>\n",
              "      <td>politician corrupt say indian brute forc engli...</td>\n",
              "      <td>0.323097</td>\n",
              "      <td>0.124429</td>\n",
              "      <td>-0.7717</td>\n",
              "      <td>0.119</td>\n",
              "      <td>0.768</td>\n",
              "      <td>0.113</td>\n",
              "    </tr>\n",
              "    <tr>\n",
              "      <th>1397</th>\n",
              "      <td>2004-12-11</td>\n",
              "      <td>keep channel open trai tell broadcast us waiv ...</td>\n",
              "      <td>0.368564</td>\n",
              "      <td>0.091771</td>\n",
              "      <td>-0.9590</td>\n",
              "      <td>0.131</td>\n",
              "      <td>0.788</td>\n",
              "      <td>0.081</td>\n",
              "    </tr>\n",
              "    <tr>\n",
              "      <th>1398</th>\n",
              "      <td>2004-12-12</td>\n",
              "      <td>strip tonsur flog love bomb blast srk show kil...</td>\n",
              "      <td>0.403276</td>\n",
              "      <td>0.106394</td>\n",
              "      <td>0.1027</td>\n",
              "      <td>0.129</td>\n",
              "      <td>0.740</td>\n",
              "      <td>0.130</td>\n",
              "    </tr>\n",
              "    <tr>\n",
              "      <th>1399</th>\n",
              "      <td>2004-12-13</td>\n",
              "      <td>big b lend voic magic tagor aha educ mission s...</td>\n",
              "      <td>0.415468</td>\n",
              "      <td>0.157767</td>\n",
              "      <td>-0.9873</td>\n",
              "      <td>0.172</td>\n",
              "      <td>0.704</td>\n",
              "      <td>0.124</td>\n",
              "    </tr>\n",
              "  </tbody>\n",
              "</table>\n",
              "<p>1400 rows × 8 columns</p>\n",
              "</div>"
            ],
            "text/plain": [
              "           Date  ... Positive\n",
              "0    2001-01-02  ...    0.102\n",
              "1    2001-01-03  ...    0.113\n",
              "2    2001-01-04  ...    0.110\n",
              "3    2001-01-05  ...    0.170\n",
              "4    2001-01-06  ...    0.144\n",
              "...         ...  ...      ...\n",
              "1395 2004-12-09  ...    0.109\n",
              "1396 2004-12-10  ...    0.113\n",
              "1397 2004-12-11  ...    0.081\n",
              "1398 2004-12-12  ...    0.130\n",
              "1399 2004-12-13  ...    0.124\n",
              "\n",
              "[1400 rows x 8 columns]"
            ]
          },
          "metadata": {
            "tags": []
          },
          "execution_count": 73
        }
      ]
    },
    {
      "cell_type": "code",
      "metadata": {
        "colab": {
          "base_uri": "https://localhost:8080/",
          "height": 650
        },
        "id": "o8cMkV5xEHQ2",
        "outputId": "ba958a84-cbef-44c4-9dd0-40c474ace38c"
      },
      "source": [
        "df_merge = pd.merge(dataset, df_news, how='inner', on='Date')\n",
        "df_merge.head()"
      ],
      "execution_count": 74,
      "outputs": [
        {
          "output_type": "execute_result",
          "data": {
            "text/html": [
              "<div>\n",
              "<style scoped>\n",
              "    .dataframe tbody tr th:only-of-type {\n",
              "        vertical-align: middle;\n",
              "    }\n",
              "\n",
              "    .dataframe tbody tr th {\n",
              "        vertical-align: top;\n",
              "    }\n",
              "\n",
              "    .dataframe thead th {\n",
              "        text-align: right;\n",
              "    }\n",
              "</style>\n",
              "<table border=\"1\" class=\"dataframe\">\n",
              "  <thead>\n",
              "    <tr style=\"text-align: right;\">\n",
              "      <th></th>\n",
              "      <th>Date</th>\n",
              "      <th>Open</th>\n",
              "      <th>High</th>\n",
              "      <th>Low</th>\n",
              "      <th>Close</th>\n",
              "      <th>Adj Close</th>\n",
              "      <th>Volume</th>\n",
              "      <th>News</th>\n",
              "      <th>Subjectivity</th>\n",
              "      <th>Polarity</th>\n",
              "      <th>Compound</th>\n",
              "      <th>Negative</th>\n",
              "      <th>Neutral</th>\n",
              "      <th>Positive</th>\n",
              "    </tr>\n",
              "  </thead>\n",
              "  <tbody>\n",
              "    <tr>\n",
              "      <th>0</th>\n",
              "      <td>2001-01-02</td>\n",
              "      <td>3953.219971</td>\n",
              "      <td>4028.570068</td>\n",
              "      <td>3929.370117</td>\n",
              "      <td>4018.879883</td>\n",
              "      <td>4018.879883</td>\n",
              "      <td>0</td>\n",
              "      <td>statu quo disturb ayodhya say vajpaye fissur h...</td>\n",
              "      <td>0.298148</td>\n",
              "      <td>0.099074</td>\n",
              "      <td>-0.8555</td>\n",
              "      <td>0.125</td>\n",
              "      <td>0.773</td>\n",
              "      <td>0.102</td>\n",
              "    </tr>\n",
              "    <tr>\n",
              "      <th>1</th>\n",
              "      <td>2001-01-03</td>\n",
              "      <td>3977.580078</td>\n",
              "      <td>4067.659912</td>\n",
              "      <td>3977.580078</td>\n",
              "      <td>4060.020020</td>\n",
              "      <td>4060.020020</td>\n",
              "      <td>0</td>\n",
              "      <td>powerless north india grope dark think laxman ...</td>\n",
              "      <td>0.429167</td>\n",
              "      <td>0.025000</td>\n",
              "      <td>-0.5994</td>\n",
              "      <td>0.132</td>\n",
              "      <td>0.755</td>\n",
              "      <td>0.113</td>\n",
              "    </tr>\n",
              "    <tr>\n",
              "      <th>2</th>\n",
              "      <td>2001-01-04</td>\n",
              "      <td>4180.970215</td>\n",
              "      <td>4180.970215</td>\n",
              "      <td>4109.549805</td>\n",
              "      <td>4115.370117</td>\n",
              "      <td>4115.370117</td>\n",
              "      <td>0</td>\n",
              "      <td>string pull stephen hawk india vajpaye give bi...</td>\n",
              "      <td>0.475140</td>\n",
              "      <td>0.032481</td>\n",
              "      <td>0.9169</td>\n",
              "      <td>0.099</td>\n",
              "      <td>0.791</td>\n",
              "      <td>0.110</td>\n",
              "    </tr>\n",
              "    <tr>\n",
              "      <th>3</th>\n",
              "      <td>2001-01-05</td>\n",
              "      <td>4116.339844</td>\n",
              "      <td>4195.009766</td>\n",
              "      <td>4115.350098</td>\n",
              "      <td>4183.729980</td>\n",
              "      <td>4183.729980</td>\n",
              "      <td>0</td>\n",
              "      <td>light combat craft take india club class hawk ...</td>\n",
              "      <td>0.458412</td>\n",
              "      <td>0.296404</td>\n",
              "      <td>-0.3612</td>\n",
              "      <td>0.171</td>\n",
              "      <td>0.659</td>\n",
              "      <td>0.170</td>\n",
              "    </tr>\n",
              "    <tr>\n",
              "      <th>4</th>\n",
              "      <td>2001-01-08</td>\n",
              "      <td>4164.759766</td>\n",
              "      <td>4206.720215</td>\n",
              "      <td>4101.529785</td>\n",
              "      <td>4120.430176</td>\n",
              "      <td>4120.430176</td>\n",
              "      <td>0</td>\n",
              "      <td>sangh parivar babri panel ant frontrunn key us...</td>\n",
              "      <td>0.486204</td>\n",
              "      <td>-0.035142</td>\n",
              "      <td>-0.6808</td>\n",
              "      <td>0.100</td>\n",
              "      <td>0.816</td>\n",
              "      <td>0.084</td>\n",
              "    </tr>\n",
              "  </tbody>\n",
              "</table>\n",
              "</div>"
            ],
            "text/plain": [
              "        Date         Open         High  ...  Negative  Neutral  Positive\n",
              "0 2001-01-02  3953.219971  4028.570068  ...     0.125    0.773     0.102\n",
              "1 2001-01-03  3977.580078  4067.659912  ...     0.132    0.755     0.113\n",
              "2 2001-01-04  4180.970215  4180.970215  ...     0.099    0.791     0.110\n",
              "3 2001-01-05  4116.339844  4195.009766  ...     0.171    0.659     0.170\n",
              "4 2001-01-08  4164.759766  4206.720215  ...     0.100    0.816     0.084\n",
              "\n",
              "[5 rows x 14 columns]"
            ]
          },
          "metadata": {
            "tags": []
          },
          "execution_count": 74
        }
      ]
    },
    {
      "cell_type": "code",
      "metadata": {
        "colab": {
          "base_uri": "https://localhost:8080/",
          "height": 407
        },
        "id": "UAeVD7sREwcB",
        "outputId": "d40a2775-eef4-49dc-a396-f515176e5193"
      },
      "source": [
        "df = df_merge[['Close','Subjectivity', 'Polarity', 'Compound', 'Negative', 'Neutral' ,'Positive']]\n",
        "df"
      ],
      "execution_count": 75,
      "outputs": [
        {
          "output_type": "execute_result",
          "data": {
            "text/html": [
              "<div>\n",
              "<style scoped>\n",
              "    .dataframe tbody tr th:only-of-type {\n",
              "        vertical-align: middle;\n",
              "    }\n",
              "\n",
              "    .dataframe tbody tr th {\n",
              "        vertical-align: top;\n",
              "    }\n",
              "\n",
              "    .dataframe thead th {\n",
              "        text-align: right;\n",
              "    }\n",
              "</style>\n",
              "<table border=\"1\" class=\"dataframe\">\n",
              "  <thead>\n",
              "    <tr style=\"text-align: right;\">\n",
              "      <th></th>\n",
              "      <th>Close</th>\n",
              "      <th>Subjectivity</th>\n",
              "      <th>Polarity</th>\n",
              "      <th>Compound</th>\n",
              "      <th>Negative</th>\n",
              "      <th>Neutral</th>\n",
              "      <th>Positive</th>\n",
              "    </tr>\n",
              "  </thead>\n",
              "  <tbody>\n",
              "    <tr>\n",
              "      <th>0</th>\n",
              "      <td>4018.879883</td>\n",
              "      <td>0.298148</td>\n",
              "      <td>0.099074</td>\n",
              "      <td>-0.8555</td>\n",
              "      <td>0.125</td>\n",
              "      <td>0.773</td>\n",
              "      <td>0.102</td>\n",
              "    </tr>\n",
              "    <tr>\n",
              "      <th>1</th>\n",
              "      <td>4060.020020</td>\n",
              "      <td>0.429167</td>\n",
              "      <td>0.025000</td>\n",
              "      <td>-0.5994</td>\n",
              "      <td>0.132</td>\n",
              "      <td>0.755</td>\n",
              "      <td>0.113</td>\n",
              "    </tr>\n",
              "    <tr>\n",
              "      <th>2</th>\n",
              "      <td>4115.370117</td>\n",
              "      <td>0.475140</td>\n",
              "      <td>0.032481</td>\n",
              "      <td>0.9169</td>\n",
              "      <td>0.099</td>\n",
              "      <td>0.791</td>\n",
              "      <td>0.110</td>\n",
              "    </tr>\n",
              "    <tr>\n",
              "      <th>3</th>\n",
              "      <td>4183.729980</td>\n",
              "      <td>0.458412</td>\n",
              "      <td>0.296404</td>\n",
              "      <td>-0.3612</td>\n",
              "      <td>0.171</td>\n",
              "      <td>0.659</td>\n",
              "      <td>0.170</td>\n",
              "    </tr>\n",
              "    <tr>\n",
              "      <th>4</th>\n",
              "      <td>4120.430176</td>\n",
              "      <td>0.486204</td>\n",
              "      <td>-0.035142</td>\n",
              "      <td>-0.6808</td>\n",
              "      <td>0.100</td>\n",
              "      <td>0.816</td>\n",
              "      <td>0.084</td>\n",
              "    </tr>\n",
              "    <tr>\n",
              "      <th>...</th>\n",
              "      <td>...</td>\n",
              "      <td>...</td>\n",
              "      <td>...</td>\n",
              "      <td>...</td>\n",
              "      <td>...</td>\n",
              "      <td>...</td>\n",
              "      <td>...</td>\n",
              "    </tr>\n",
              "    <tr>\n",
              "      <th>949</th>\n",
              "      <td>6322.500000</td>\n",
              "      <td>0.398988</td>\n",
              "      <td>0.078451</td>\n",
              "      <td>-0.8779</td>\n",
              "      <td>0.115</td>\n",
              "      <td>0.774</td>\n",
              "      <td>0.110</td>\n",
              "    </tr>\n",
              "    <tr>\n",
              "      <th>950</th>\n",
              "      <td>6316.279785</td>\n",
              "      <td>0.381942</td>\n",
              "      <td>0.110994</td>\n",
              "      <td>-0.9944</td>\n",
              "      <td>0.145</td>\n",
              "      <td>0.776</td>\n",
              "      <td>0.079</td>\n",
              "    </tr>\n",
              "    <tr>\n",
              "      <th>951</th>\n",
              "      <td>6261.520020</td>\n",
              "      <td>0.330339</td>\n",
              "      <td>0.067713</td>\n",
              "      <td>-0.9517</td>\n",
              "      <td>0.110</td>\n",
              "      <td>0.799</td>\n",
              "      <td>0.091</td>\n",
              "    </tr>\n",
              "    <tr>\n",
              "      <th>952</th>\n",
              "      <td>6304.270020</td>\n",
              "      <td>0.483466</td>\n",
              "      <td>0.044768</td>\n",
              "      <td>-0.9565</td>\n",
              "      <td>0.136</td>\n",
              "      <td>0.756</td>\n",
              "      <td>0.109</td>\n",
              "    </tr>\n",
              "    <tr>\n",
              "      <th>953</th>\n",
              "      <td>6233.540039</td>\n",
              "      <td>0.323097</td>\n",
              "      <td>0.124429</td>\n",
              "      <td>-0.7717</td>\n",
              "      <td>0.119</td>\n",
              "      <td>0.768</td>\n",
              "      <td>0.113</td>\n",
              "    </tr>\n",
              "  </tbody>\n",
              "</table>\n",
              "<p>954 rows × 7 columns</p>\n",
              "</div>"
            ],
            "text/plain": [
              "           Close  Subjectivity  Polarity  Compound  Negative  Neutral  Positive\n",
              "0    4018.879883      0.298148  0.099074   -0.8555     0.125    0.773     0.102\n",
              "1    4060.020020      0.429167  0.025000   -0.5994     0.132    0.755     0.113\n",
              "2    4115.370117      0.475140  0.032481    0.9169     0.099    0.791     0.110\n",
              "3    4183.729980      0.458412  0.296404   -0.3612     0.171    0.659     0.170\n",
              "4    4120.430176      0.486204 -0.035142   -0.6808     0.100    0.816     0.084\n",
              "..           ...           ...       ...       ...       ...      ...       ...\n",
              "949  6322.500000      0.398988  0.078451   -0.8779     0.115    0.774     0.110\n",
              "950  6316.279785      0.381942  0.110994   -0.9944     0.145    0.776     0.079\n",
              "951  6261.520020      0.330339  0.067713   -0.9517     0.110    0.799     0.091\n",
              "952  6304.270020      0.483466  0.044768   -0.9565     0.136    0.756     0.109\n",
              "953  6233.540039      0.323097  0.124429   -0.7717     0.119    0.768     0.113\n",
              "\n",
              "[954 rows x 7 columns]"
            ]
          },
          "metadata": {
            "tags": []
          },
          "execution_count": 75
        }
      ]
    },
    {
      "cell_type": "code",
      "metadata": {
        "colab": {
          "base_uri": "https://localhost:8080/",
          "height": 198
        },
        "id": "Gmqb0m6dKd5S",
        "outputId": "4d588f6a-8324-4b0c-8c34-0ebc450894ff"
      },
      "source": [
        "from sklearn.preprocessing import MinMaxScaler\n",
        "sc = MinMaxScaler()\n",
        "new_df = pd.DataFrame(sc.fit_transform(df))\n",
        "new_df.columns = df.columns\n",
        "new_df.index = df.index\n",
        "new_df.head()"
      ],
      "execution_count": 76,
      "outputs": [
        {
          "output_type": "execute_result",
          "data": {
            "text/html": [
              "<div>\n",
              "<style scoped>\n",
              "    .dataframe tbody tr th:only-of-type {\n",
              "        vertical-align: middle;\n",
              "    }\n",
              "\n",
              "    .dataframe tbody tr th {\n",
              "        vertical-align: top;\n",
              "    }\n",
              "\n",
              "    .dataframe thead th {\n",
              "        text-align: right;\n",
              "    }\n",
              "</style>\n",
              "<table border=\"1\" class=\"dataframe\">\n",
              "  <thead>\n",
              "    <tr style=\"text-align: right;\">\n",
              "      <th></th>\n",
              "      <th>Close</th>\n",
              "      <th>Subjectivity</th>\n",
              "      <th>Polarity</th>\n",
              "      <th>Compound</th>\n",
              "      <th>Negative</th>\n",
              "      <th>Neutral</th>\n",
              "      <th>Positive</th>\n",
              "    </tr>\n",
              "  </thead>\n",
              "  <tbody>\n",
              "    <tr>\n",
              "      <th>0</th>\n",
              "      <td>0.380537</td>\n",
              "      <td>0.298148</td>\n",
              "      <td>0.553906</td>\n",
              "      <td>0.072302</td>\n",
              "      <td>0.382263</td>\n",
              "      <td>0.699735</td>\n",
              "      <td>0.134921</td>\n",
              "    </tr>\n",
              "    <tr>\n",
              "      <th>1</th>\n",
              "      <td>0.391571</td>\n",
              "      <td>0.429167</td>\n",
              "      <td>0.393592</td>\n",
              "      <td>0.200712</td>\n",
              "      <td>0.403670</td>\n",
              "      <td>0.675926</td>\n",
              "      <td>0.149471</td>\n",
              "    </tr>\n",
              "    <tr>\n",
              "      <th>2</th>\n",
              "      <td>0.406417</td>\n",
              "      <td>0.475140</td>\n",
              "      <td>0.409783</td>\n",
              "      <td>0.960991</td>\n",
              "      <td>0.302752</td>\n",
              "      <td>0.723545</td>\n",
              "      <td>0.145503</td>\n",
              "    </tr>\n",
              "    <tr>\n",
              "      <th>3</th>\n",
              "      <td>0.424753</td>\n",
              "      <td>0.458412</td>\n",
              "      <td>0.980975</td>\n",
              "      <td>0.320146</td>\n",
              "      <td>0.522936</td>\n",
              "      <td>0.548942</td>\n",
              "      <td>0.224868</td>\n",
              "    </tr>\n",
              "    <tr>\n",
              "      <th>4</th>\n",
              "      <td>0.407775</td>\n",
              "      <td>0.486204</td>\n",
              "      <td>0.263429</td>\n",
              "      <td>0.159898</td>\n",
              "      <td>0.305810</td>\n",
              "      <td>0.756614</td>\n",
              "      <td>0.111111</td>\n",
              "    </tr>\n",
              "  </tbody>\n",
              "</table>\n",
              "</div>"
            ],
            "text/plain": [
              "      Close  Subjectivity  Polarity  Compound  Negative   Neutral  Positive\n",
              "0  0.380537      0.298148  0.553906  0.072302  0.382263  0.699735  0.134921\n",
              "1  0.391571      0.429167  0.393592  0.200712  0.403670  0.675926  0.149471\n",
              "2  0.406417      0.475140  0.409783  0.960991  0.302752  0.723545  0.145503\n",
              "3  0.424753      0.458412  0.980975  0.320146  0.522936  0.548942  0.224868\n",
              "4  0.407775      0.486204  0.263429  0.159898  0.305810  0.756614  0.111111"
            ]
          },
          "metadata": {
            "tags": []
          },
          "execution_count": 76
        }
      ]
    },
    {
      "cell_type": "code",
      "metadata": {
        "id": "vOa-ABvdKgAr"
      },
      "source": [
        "X = new_df.drop('Close', axis=1)\n",
        "y =new_df['Close']"
      ],
      "execution_count": 77,
      "outputs": []
    },
    {
      "cell_type": "code",
      "metadata": {
        "colab": {
          "base_uri": "https://localhost:8080/",
          "height": 198
        },
        "id": "_V1nsAF8Khki",
        "outputId": "aba3b879-2aa8-4a0e-ea80-388e089675a2"
      },
      "source": [
        "X.head()"
      ],
      "execution_count": 78,
      "outputs": [
        {
          "output_type": "execute_result",
          "data": {
            "text/html": [
              "<div>\n",
              "<style scoped>\n",
              "    .dataframe tbody tr th:only-of-type {\n",
              "        vertical-align: middle;\n",
              "    }\n",
              "\n",
              "    .dataframe tbody tr th {\n",
              "        vertical-align: top;\n",
              "    }\n",
              "\n",
              "    .dataframe thead th {\n",
              "        text-align: right;\n",
              "    }\n",
              "</style>\n",
              "<table border=\"1\" class=\"dataframe\">\n",
              "  <thead>\n",
              "    <tr style=\"text-align: right;\">\n",
              "      <th></th>\n",
              "      <th>Subjectivity</th>\n",
              "      <th>Polarity</th>\n",
              "      <th>Compound</th>\n",
              "      <th>Negative</th>\n",
              "      <th>Neutral</th>\n",
              "      <th>Positive</th>\n",
              "    </tr>\n",
              "  </thead>\n",
              "  <tbody>\n",
              "    <tr>\n",
              "      <th>0</th>\n",
              "      <td>0.298148</td>\n",
              "      <td>0.553906</td>\n",
              "      <td>0.072302</td>\n",
              "      <td>0.382263</td>\n",
              "      <td>0.699735</td>\n",
              "      <td>0.134921</td>\n",
              "    </tr>\n",
              "    <tr>\n",
              "      <th>1</th>\n",
              "      <td>0.429167</td>\n",
              "      <td>0.393592</td>\n",
              "      <td>0.200712</td>\n",
              "      <td>0.403670</td>\n",
              "      <td>0.675926</td>\n",
              "      <td>0.149471</td>\n",
              "    </tr>\n",
              "    <tr>\n",
              "      <th>2</th>\n",
              "      <td>0.475140</td>\n",
              "      <td>0.409783</td>\n",
              "      <td>0.960991</td>\n",
              "      <td>0.302752</td>\n",
              "      <td>0.723545</td>\n",
              "      <td>0.145503</td>\n",
              "    </tr>\n",
              "    <tr>\n",
              "      <th>3</th>\n",
              "      <td>0.458412</td>\n",
              "      <td>0.980975</td>\n",
              "      <td>0.320146</td>\n",
              "      <td>0.522936</td>\n",
              "      <td>0.548942</td>\n",
              "      <td>0.224868</td>\n",
              "    </tr>\n",
              "    <tr>\n",
              "      <th>4</th>\n",
              "      <td>0.486204</td>\n",
              "      <td>0.263429</td>\n",
              "      <td>0.159898</td>\n",
              "      <td>0.305810</td>\n",
              "      <td>0.756614</td>\n",
              "      <td>0.111111</td>\n",
              "    </tr>\n",
              "  </tbody>\n",
              "</table>\n",
              "</div>"
            ],
            "text/plain": [
              "   Subjectivity  Polarity  Compound  Negative   Neutral  Positive\n",
              "0      0.298148  0.553906  0.072302  0.382263  0.699735  0.134921\n",
              "1      0.429167  0.393592  0.200712  0.403670  0.675926  0.149471\n",
              "2      0.475140  0.409783  0.960991  0.302752  0.723545  0.145503\n",
              "3      0.458412  0.980975  0.320146  0.522936  0.548942  0.224868\n",
              "4      0.486204  0.263429  0.159898  0.305810  0.756614  0.111111"
            ]
          },
          "metadata": {
            "tags": []
          },
          "execution_count": 78
        }
      ]
    },
    {
      "cell_type": "code",
      "metadata": {
        "colab": {
          "base_uri": "https://localhost:8080/"
        },
        "id": "rkYC4U4qKkxZ",
        "outputId": "92ceab1c-780e-4efc-f9c2-4b6975f790ed"
      },
      "source": [
        "x_train, x_test, y_train, y_test = train_test_split(X, y, test_size=0.2, random_state = 0)\n",
        "x_train.shape"
      ],
      "execution_count": 79,
      "outputs": [
        {
          "output_type": "execute_result",
          "data": {
            "text/plain": [
              "(763, 6)"
            ]
          },
          "metadata": {
            "tags": []
          },
          "execution_count": 79
        }
      ]
    },
    {
      "cell_type": "code",
      "metadata": {
        "colab": {
          "base_uri": "https://localhost:8080/",
          "height": 348
        },
        "id": "l1o1i9F8Kmyh",
        "outputId": "383dd044-21b2-4069-f8e6-ac0a5dfaefd1"
      },
      "source": [
        "x_train[:10]"
      ],
      "execution_count": 80,
      "outputs": [
        {
          "output_type": "execute_result",
          "data": {
            "text/html": [
              "<div>\n",
              "<style scoped>\n",
              "    .dataframe tbody tr th:only-of-type {\n",
              "        vertical-align: middle;\n",
              "    }\n",
              "\n",
              "    .dataframe tbody tr th {\n",
              "        vertical-align: top;\n",
              "    }\n",
              "\n",
              "    .dataframe thead th {\n",
              "        text-align: right;\n",
              "    }\n",
              "</style>\n",
              "<table border=\"1\" class=\"dataframe\">\n",
              "  <thead>\n",
              "    <tr style=\"text-align: right;\">\n",
              "      <th></th>\n",
              "      <th>Subjectivity</th>\n",
              "      <th>Polarity</th>\n",
              "      <th>Compound</th>\n",
              "      <th>Negative</th>\n",
              "      <th>Neutral</th>\n",
              "      <th>Positive</th>\n",
              "    </tr>\n",
              "  </thead>\n",
              "  <tbody>\n",
              "    <tr>\n",
              "      <th>412</th>\n",
              "      <td>0.340855</td>\n",
              "      <td>0.384808</td>\n",
              "      <td>0.001554</td>\n",
              "      <td>0.504587</td>\n",
              "      <td>0.657407</td>\n",
              "      <td>0.124339</td>\n",
              "    </tr>\n",
              "    <tr>\n",
              "      <th>863</th>\n",
              "      <td>0.443984</td>\n",
              "      <td>0.571002</td>\n",
              "      <td>0.007170</td>\n",
              "      <td>0.412844</td>\n",
              "      <td>0.678571</td>\n",
              "      <td>0.142857</td>\n",
              "    </tr>\n",
              "    <tr>\n",
              "      <th>62</th>\n",
              "      <td>0.421970</td>\n",
              "      <td>0.548531</td>\n",
              "      <td>0.814581</td>\n",
              "      <td>0.235474</td>\n",
              "      <td>0.657407</td>\n",
              "      <td>0.240741</td>\n",
              "    </tr>\n",
              "    <tr>\n",
              "      <th>79</th>\n",
              "      <td>0.392574</td>\n",
              "      <td>0.710656</td>\n",
              "      <td>0.214501</td>\n",
              "      <td>0.489297</td>\n",
              "      <td>0.596561</td>\n",
              "      <td>0.191799</td>\n",
              "    </tr>\n",
              "    <tr>\n",
              "      <th>649</th>\n",
              "      <td>0.381099</td>\n",
              "      <td>0.307438</td>\n",
              "      <td>0.000351</td>\n",
              "      <td>0.480122</td>\n",
              "      <td>0.698413</td>\n",
              "      <td>0.093915</td>\n",
              "    </tr>\n",
              "    <tr>\n",
              "      <th>193</th>\n",
              "      <td>0.371473</td>\n",
              "      <td>0.440324</td>\n",
              "      <td>0.000100</td>\n",
              "      <td>0.486239</td>\n",
              "      <td>0.689153</td>\n",
              "      <td>0.100529</td>\n",
              "    </tr>\n",
              "    <tr>\n",
              "      <th>181</th>\n",
              "      <td>0.439321</td>\n",
              "      <td>0.531369</td>\n",
              "      <td>0.001604</td>\n",
              "      <td>0.501529</td>\n",
              "      <td>0.649471</td>\n",
              "      <td>0.133598</td>\n",
              "    </tr>\n",
              "    <tr>\n",
              "      <th>526</th>\n",
              "      <td>0.338272</td>\n",
              "      <td>0.501395</td>\n",
              "      <td>0.000150</td>\n",
              "      <td>0.550459</td>\n",
              "      <td>0.649471</td>\n",
              "      <td>0.112434</td>\n",
              "    </tr>\n",
              "    <tr>\n",
              "      <th>725</th>\n",
              "      <td>0.350583</td>\n",
              "      <td>0.699835</td>\n",
              "      <td>0.003710</td>\n",
              "      <td>0.394495</td>\n",
              "      <td>0.716931</td>\n",
              "      <td>0.111111</td>\n",
              "    </tr>\n",
              "    <tr>\n",
              "      <th>306</th>\n",
              "      <td>0.356506</td>\n",
              "      <td>0.540867</td>\n",
              "      <td>0.000150</td>\n",
              "      <td>0.510703</td>\n",
              "      <td>0.667989</td>\n",
              "      <td>0.111111</td>\n",
              "    </tr>\n",
              "  </tbody>\n",
              "</table>\n",
              "</div>"
            ],
            "text/plain": [
              "     Subjectivity  Polarity  Compound  Negative   Neutral  Positive\n",
              "412      0.340855  0.384808  0.001554  0.504587  0.657407  0.124339\n",
              "863      0.443984  0.571002  0.007170  0.412844  0.678571  0.142857\n",
              "62       0.421970  0.548531  0.814581  0.235474  0.657407  0.240741\n",
              "79       0.392574  0.710656  0.214501  0.489297  0.596561  0.191799\n",
              "649      0.381099  0.307438  0.000351  0.480122  0.698413  0.093915\n",
              "193      0.371473  0.440324  0.000100  0.486239  0.689153  0.100529\n",
              "181      0.439321  0.531369  0.001604  0.501529  0.649471  0.133598\n",
              "526      0.338272  0.501395  0.000150  0.550459  0.649471  0.112434\n",
              "725      0.350583  0.699835  0.003710  0.394495  0.716931  0.111111\n",
              "306      0.356506  0.540867  0.000150  0.510703  0.667989  0.111111"
            ]
          },
          "metadata": {
            "tags": []
          },
          "execution_count": 80
        }
      ]
    },
    {
      "cell_type": "code",
      "metadata": {
        "id": "2BT1x1gvKpw5"
      },
      "source": [
        "rf = RandomForestRegressor()\n",
        "rf.fit(x_train, y_train)\n",
        "prediction=rf.predict(x_test)"
      ],
      "execution_count": 81,
      "outputs": []
    },
    {
      "cell_type": "code",
      "metadata": {
        "colab": {
          "base_uri": "https://localhost:8080/"
        },
        "id": "cAFmWkECKuQT",
        "outputId": "9c059c77-eb33-4e50-b89f-3ccc969d9ba9"
      },
      "source": [
        "print(prediction[:10])\n",
        "print(y_test[:10])\n",
        "print(\"******************************************\")\n",
        "print(\"Mean squared error:\" ,mean_squared_error(prediction,y_test))"
      ],
      "execution_count": 90,
      "outputs": [
        {
          "output_type": "stream",
          "text": [
            "[0.364517   0.59758936 0.3479669  0.44357719 0.39519765 0.28864354\n",
            " 0.23381145 0.56325999 0.57836017 0.39762384]\n",
            "876    0.676856\n",
            "900    0.809147\n",
            "14     0.469955\n",
            "702    0.705204\n",
            "55     0.156545\n",
            "425    0.076472\n",
            "200    0.193160\n",
            "255    0.269280\n",
            "267    0.250966\n",
            "809    0.610706\n",
            "Name: Close, dtype: float64\n",
            "******************************************\n",
            "Mean squared error: 0.06053546019763283\n"
          ],
          "name": "stdout"
        }
      ]
    },
    {
      "cell_type": "markdown",
      "metadata": {
        "id": "JOIdFuRHoLlN"
      },
      "source": [
        "**Conclusion**: I have used Attention mechanism with LSTM for training the numerical data for BSESN. And used Random Forest for training the texual data. The Mean squared error obtained for numerical analsysis is 0.0135 and that for texual analysis is 0.605"
      ]
    }
  ]
}